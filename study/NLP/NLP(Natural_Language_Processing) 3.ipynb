{
 "cells": [
  {
   "cell_type": "markdown",
   "id": "ca7aef3e",
   "metadata": {},
   "source": [
    "# 형태소 분석하기"
   ]
  },
  {
   "cell_type": "code",
   "execution_count": 2,
   "id": "5d1f0122",
   "metadata": {},
   "outputs": [
    {
     "name": "stdout",
     "output_type": "stream",
     "text": [
      "Collecting konlpy\n",
      "  Downloading konlpy-0.6.0-py2.py3-none-any.whl (19.4 MB)\n",
      "\u001b[K     |████████████████████████████████| 19.4 MB 945 kB/s eta 0:00:01    |███████▉                        | 4.8 MB 1.1 MB/s eta 0:00:13     |█████████████▉                  | 8.4 MB 2.4 MB/s eta 0:00:05\n",
      "\u001b[?25hCollecting JPype1>=0.7.0\n",
      "  Downloading JPype1-1.4.0-cp38-cp38-macosx_10_9_x86_64.whl (381 kB)\n",
      "\u001b[K     |████████████████████████████████| 381 kB 950 kB/s eta 0:00:01\n",
      "\u001b[?25hRequirement already satisfied: numpy>=1.6 in /Users/yooseungli/opt/anaconda3/lib/python3.8/site-packages (from konlpy) (1.20.1)\n",
      "Requirement already satisfied: lxml>=4.1.0 in /Users/yooseungli/opt/anaconda3/lib/python3.8/site-packages (from konlpy) (4.6.3)\n",
      "Installing collected packages: JPype1, konlpy\n",
      "Successfully installed JPype1-1.4.0 konlpy-0.6.0\n"
     ]
    }
   ],
   "source": [
    "!pip install konlpy"
   ]
  },
  {
   "cell_type": "code",
   "execution_count": 6,
   "id": "2716ea3d",
   "metadata": {},
   "outputs": [],
   "source": [
    "import konlpy"
   ]
  },
  {
   "cell_type": "code",
   "execution_count": 4,
   "id": "5f6a5597",
   "metadata": {},
   "outputs": [
    {
     "data": {
      "text/plain": [
       "'3.8.8 (default, Apr 13 2021, 12:59:45) \\n[Clang 10.0.0 ]'"
      ]
     },
     "execution_count": 4,
     "metadata": {},
     "output_type": "execute_result"
    }
   ],
   "source": [
    "import sys\n",
    "sys.version"
   ]
  },
  {
   "cell_type": "code",
   "execution_count": 8,
   "id": "6f58e255",
   "metadata": {},
   "outputs": [
    {
     "name": "stdout",
     "output_type": "stream",
     "text": [
      "['이', '여름', '다시', '한', '번', '설레고', '싶다', ',', '그', '여름', '을', '틀어줘', '.', '싹', '쓰리']\n"
     ]
    }
   ],
   "source": [
    "from konlpy.tag import Okt # 형태소 분석기\n",
    "okt = Okt()\n",
    "\n",
    "print(okt.morphs(\"이 여름 다시 한 번 설레고 싶다, 그 여름을 틀어줘. 싹쓰리\")) # 형태소 추출"
   ]
  },
  {
   "cell_type": "code",
   "execution_count": 9,
   "id": "1f9d10bc",
   "metadata": {},
   "outputs": [
    {
     "name": "stdout",
     "output_type": "stream",
     "text": [
      "[('이', 'Noun'), ('여름', 'Noun'), ('다시', 'Noun'), ('한', 'Verb'), ('번', 'Noun'), ('설레고', 'Adjective'), ('싶다', 'Verb'), (',', 'Punctuation'), ('그', 'Noun'), ('여름', 'Noun'), ('을', 'Josa'), ('틀어줘', 'Verb'), ('.', 'Punctuation'), ('싹', 'Noun'), ('쓰리', 'Adjective')]\n"
     ]
    }
   ],
   "source": [
    "print(okt.pos(\"이 여름 다시 한 번 설레고 싶다, 그 여름을 틀어줘. 싹쓰리\")) # 품사 태깅"
   ]
  },
  {
   "cell_type": "code",
   "execution_count": 10,
   "id": "ec2ece7f",
   "metadata": {},
   "outputs": [
    {
     "name": "stdout",
     "output_type": "stream",
     "text": [
      "['이', '여름', '다시', '번', '그', '여름', '싹']\n"
     ]
    }
   ],
   "source": [
    "print(okt.nouns(\"이 여름 다시 한 번 설레고 싶다, 그 여름을 틀어줘. 싹쓰리\")) # 명사 추출"
   ]
  },
  {
   "cell_type": "code",
   "execution_count": 11,
   "id": "dd3ee852",
   "metadata": {},
   "outputs": [
    {
     "name": "stdout",
     "output_type": "stream",
     "text": [
      "['이', '여름', '다시', '하', 'ㄴ', '번', '설레', '고', '싶', '다', ',', '그', '여름', '을', '틀', '어', '주', '어', '.', '싹쓰', '이', '리']\n"
     ]
    }
   ],
   "source": [
    "from konlpy.tag import Hannanum # 한나눔 모듈 불러오기\n",
    "han = Hannanum()\n",
    "\n",
    "print(han.morphs(\"이 여름 다시 한 번 설레고 싶다, 그 여름을 틀어줘. 싹쓰리\")) # 형태소 분석"
   ]
  },
  {
   "cell_type": "code",
   "execution_count": 12,
   "id": "1f4ab106",
   "metadata": {},
   "outputs": [
    {
     "name": "stdout",
     "output_type": "stream",
     "text": [
      "[('이', 'M'), ('여름', 'N'), ('다시', 'M'), ('하', 'P'), ('ㄴ', 'E'), ('번', 'N'), ('설레', 'P'), ('고', 'E'), ('싶', 'P'), ('다', 'E'), (',', 'S'), ('그', 'M'), ('여름', 'N'), ('을', 'J'), ('틀', 'P'), ('어', 'E'), ('주', 'P'), ('어', 'E'), ('.', 'S'), ('싹쓰', 'N'), ('이', 'J'), ('리', 'E')]\n"
     ]
    }
   ],
   "source": [
    "print(han.pos(\"이 여름 다시 한 번 설레고 싶다, 그 여름을 틀어줘. 싹쓰리\")) # 품사 태깅"
   ]
  },
  {
   "cell_type": "code",
   "execution_count": 14,
   "id": "80ceccf3",
   "metadata": {},
   "outputs": [
    {
     "name": "stdout",
     "output_type": "stream",
     "text": [
      "['여름', '번', '여름', '싹쓰']\n"
     ]
    }
   ],
   "source": [
    "print(han.nouns(\"이 여름 다시 한 번 설레고 싶다, 그 여름을 틀어줘. 싹쓰리\")) # 명사 추출"
   ]
  },
  {
   "cell_type": "code",
   "execution_count": 16,
   "id": "b9f60e7f",
   "metadata": {},
   "outputs": [
    {
     "name": "stdout",
     "output_type": "stream",
     "text": [
      "분석할 텍스트를 입력하시오: 이 여름 다시 한 번 설레고 싶다, 그 여름을 틀어줘. 싹쓰리\n",
      "이\tM\n",
      "여름\tN\n",
      "다시\tM\n",
      "하\tP\n",
      "ㄴ\tE\n",
      "번\tN\n",
      "설레\tP\n",
      "고\tE\n",
      "싶\tP\n",
      "다\tE\n",
      ",\tS\n",
      "그\tM\n",
      "여름\tN\n",
      "을\tJ\n",
      "틀\tP\n",
      "어\tE\n",
      "주\tP\n",
      "어\tE\n",
      ".\tS\n",
      "싹쓰\tN\n",
      "이\tJ\n",
      "리\tE\n"
     ]
    }
   ],
   "source": [
    "import konlpy\n",
    "from konlpy.tag import Hannanum\n",
    "\n",
    "nan = Hannanum()\n",
    "text = input(\"분석할 텍스트를 입력하시오: \")\n",
    "result = han.pos(text)\n",
    "\n",
    "for lex, pos in result:\n",
    "    print(\"{}\\t{}\".format(lex, pos))"
   ]
  },
  {
   "cell_type": "markdown",
   "id": "d70251d9",
   "metadata": {},
   "source": [
    "### - Corpus 이용"
   ]
  },
  {
   "cell_type": "code",
   "execution_count": 17,
   "id": "7d2f2e5f",
   "metadata": {},
   "outputs": [],
   "source": [
    "from konlpy.corpus import kolaw\n",
    "from konlpy.tag import Okt\n",
    "\n",
    "okt = Okt()"
   ]
  },
  {
   "cell_type": "code",
   "execution_count": 18,
   "id": "6313afc4",
   "metadata": {},
   "outputs": [
    {
     "data": {
      "text/plain": [
       "'대한민국헌법\\n\\n유구한 역사와 전통에 빛나는 우리 대한국민은 3·1운동으로 건립된 대한민국임'"
      ]
     },
     "execution_count": 18,
     "metadata": {},
     "output_type": "execute_result"
    }
   ],
   "source": [
    "law_corpus = kolaw.open(\"constitution.txt\").read()\n",
    "law_corpus[:50]"
   ]
  },
  {
   "cell_type": "code",
   "execution_count": 20,
   "id": "4b928dbd",
   "metadata": {},
   "outputs": [
    {
     "data": {
      "text/plain": [
       "[('대한민국', 'Noun'),\n",
       " ('헌법', 'Noun'),\n",
       " ('\\n\\n', 'Foreign'),\n",
       " ('유구', 'Noun'),\n",
       " ('한', 'Josa'),\n",
       " ('역사', 'Noun'),\n",
       " ('와', 'Josa'),\n",
       " ('전통', 'Noun'),\n",
       " ('에', 'Josa'),\n",
       " ('빛나는', 'Verb'),\n",
       " ('우리', 'Noun'),\n",
       " ('대', 'Modifier'),\n",
       " ('한', 'Modifier'),\n",
       " ('국민', 'Noun'),\n",
       " ('은', 'Josa'),\n",
       " ('3', 'Number'),\n",
       " ('·', 'Punctuation'),\n",
       " ('1', 'Number'),\n",
       " ('운동', 'Noun'),\n",
       " ('으로', 'Josa'),\n",
       " ('건립', 'Noun'),\n",
       " ('된', 'Verb'),\n",
       " ('대한민국', 'Noun'),\n",
       " ('임', 'Noun')]"
      ]
     },
     "execution_count": 20,
     "metadata": {},
     "output_type": "execute_result"
    }
   ],
   "source": [
    "okt.pos(law_corpus[:50]) # 품사 태깅"
   ]
  },
  {
   "cell_type": "markdown",
   "id": "819ed974",
   "metadata": {},
   "source": [
    "### 정제(cleaning) \n",
    "- corpus에서 노이즈 데이터 제거"
   ]
  },
  {
   "cell_type": "markdown",
   "id": "cecdc8d1",
   "metadata": {},
   "source": [
    "#### re 모듈을 이용해 복습하기\n",
    "text1 = \"서울 부동산 가격이 올해 들어 평균 30% 상승했습니다.\"에서 숫자만 제외  \n",
    "text2 = \"\\*서울 부동산 가격이 올해 들어 평균 30% 상승했습니다!\"에서 문장부호, 특수문자 제외  \n",
    "text3 = \"*서울 부동산 가격이 올해 들어 평균 30% 상승했습니다!\"에서 *만 제외"
   ]
  },
  {
   "cell_type": "code",
   "execution_count": 21,
   "id": "0b00d0d8",
   "metadata": {},
   "outputs": [],
   "source": [
    "import re"
   ]
  },
  {
   "cell_type": "code",
   "execution_count": 27,
   "id": "9c87ff38",
   "metadata": {},
   "outputs": [
    {
     "data": {
      "text/plain": [
       "'서울 부동산 가격이 올해 들어 평균 % 상승했습니다.'"
      ]
     },
     "execution_count": 27,
     "metadata": {},
     "output_type": "execute_result"
    }
   ],
   "source": [
    "text1 = \"서울 부동산 가격이 올해 들어 평균 30% 상승했습니다.\"\n",
    "\n",
    "p = re.compile(\"[0-9]+\")\n",
    "p.sub(\"\",text1)"
   ]
  },
  {
   "cell_type": "code",
   "execution_count": 31,
   "id": "f351933b",
   "metadata": {},
   "outputs": [
    {
     "data": {
      "text/plain": [
       "' 서울 부동산 가격이 올해 들어 평균 30 상승했습니다 '"
      ]
     },
     "execution_count": 31,
     "metadata": {},
     "output_type": "execute_result"
    }
   ],
   "source": [
    "text2 = \"*서울 부동산 가격이 올해 들어 평균 30% 상승했습니다!\"\n",
    "\n",
    "p = re.compile(\"\\W+\")\n",
    "p.sub(\" \", text2)"
   ]
  },
  {
   "cell_type": "code",
   "execution_count": 33,
   "id": "89c6d5d0",
   "metadata": {},
   "outputs": [
    {
     "data": {
      "text/plain": [
       "'서울 부동산 가격이 올해 들어 평균 30% 상승했습니다!'"
      ]
     },
     "execution_count": 33,
     "metadata": {},
     "output_type": "execute_result"
    }
   ],
   "source": [
    "text3 = \"서울 부동산 가격이 올해 들어 평균 30% 상승했습니다!\"\n",
    "\n",
    "p = re.compile(\"\\*\")\n",
    "p.sub(\"\", text3)"
   ]
  },
  {
   "cell_type": "markdown",
   "id": "0db180eb",
   "metadata": {},
   "source": [
    "### 불용어 제거"
   ]
  },
  {
   "cell_type": "code",
   "execution_count": 41,
   "id": "e0d6b8ad",
   "metadata": {},
   "outputs": [
    {
     "name": "stderr",
     "output_type": "stream",
     "text": [
      "[nltk_data] Downloading package stopwords to\n",
      "[nltk_data]     /Users/yooseungli/nltk_data...\n",
      "[nltk_data]   Unzipping corpora/stopwords.zip.\n"
     ]
    },
    {
     "data": {
      "text/plain": [
       "True"
      ]
     },
     "execution_count": 41,
     "metadata": {},
     "output_type": "execute_result"
    }
   ],
   "source": [
    "nltk.download('stopwords')"
   ]
  },
  {
   "cell_type": "code",
   "execution_count": 42,
   "id": "c09bc48b",
   "metadata": {},
   "outputs": [
    {
     "data": {
      "text/plain": [
       "['i', 'me', 'my', 'myself', 'we', 'our', 'ours', 'ourselves', 'you', \"you're\"]"
      ]
     },
     "execution_count": 42,
     "metadata": {},
     "output_type": "execute_result"
    }
   ],
   "source": [
    "import nltk\n",
    "from nltk.corpus import stopwords\n",
    "\n",
    "stopwords.words('english')[:10]"
   ]
  },
  {
   "cell_type": "code",
   "execution_count": 44,
   "id": "37c285ea",
   "metadata": {},
   "outputs": [],
   "source": [
    "import nltk\n",
    "from nltk.corpus import stopwords\n",
    "from nltk.tokenize import word_tokenize\n",
    "\n",
    "example = \"Family is not an important thing. It's everything.\"\n",
    "stop_words = set(stopwords.words('english'))"
   ]
  },
  {
   "cell_type": "code",
   "execution_count": 48,
   "id": "3aef561a",
   "metadata": {},
   "outputs": [
    {
     "name": "stdout",
     "output_type": "stream",
     "text": [
      "['Family', 'is', 'not', 'an', 'important', 'thing', '.', 'It', \"'s\", 'everything', '.']\n",
      "['Family', 'important', 'thing', '.', 'It', \"'s\", 'everything', '.']\n"
     ]
    }
   ],
   "source": [
    "word_tokens = word_tokenize(example)\n",
    "result = []\n",
    "\n",
    "for w in word_tokens:\n",
    "    if w not in stop_words:\n",
    "        result.append(w)\n",
    "        \n",
    "print(word_tokens)\n",
    "print(result)"
   ]
  },
  {
   "cell_type": "markdown",
   "id": "3a364fa6",
   "metadata": {},
   "source": [
    "### [실습] 불용어 제거_한글"
   ]
  },
  {
   "cell_type": "code",
   "execution_count": 49,
   "id": "d1e7fad3",
   "metadata": {},
   "outputs": [],
   "source": [
    "import nltk\n",
    "from nltk.corpus import stopwords\n",
    "from nltk.tokenize import word_tokenize\n",
    "\n",
    "example = \"\"\"이 여름 다시 한번 설레고 싶다 그때 그 여름을 틀어줘 그 여름을 들려줘\n",
    "이 여름도 언젠가는 그해 여름 오늘이 가장 젊은 내 여름\"\"\"\n",
    "stop_words = \"이 그 또 가장\"\n",
    "# 위의 불용어는 명사가 아닌 단어 중에서 임의로 선정한 것으로 실제 의미있는 선정 기준이 아님"
   ]
  },
  {
   "cell_type": "code",
   "execution_count": 50,
   "id": "36842533",
   "metadata": {},
   "outputs": [
    {
     "name": "stdout",
     "output_type": "stream",
     "text": [
      "['이', '여름', '다시', '한번', '설레고', '싶다', '그때', '그', '여름을', '틀어줘', '그', '여름을', '들려줘', '이', '여름도', '언젠가는', '그해', '여름', '오늘이', '가장', '젊은', '내', '여름']\n",
      "['여름', '다시', '한번', '설레고', '싶다', '그때', '여름을', '틀어줘', '여름을', '들려줘', '여름도', '언젠가는', '그해', '여름', '오늘이', '젊은', '내', '여름']\n"
     ]
    }
   ],
   "source": [
    "stop_words = stop_words.split(\" \")\n",
    "word_tokens = word_tokenize(example)\n",
    "result = []\n",
    "\n",
    "for w in word_tokens:\n",
    "    if w not in stop_words:\n",
    "        result.append(w)\n",
    "    \n",
    "print(word_tokens)\n",
    "print(result)"
   ]
  },
  {
   "cell_type": "code",
   "execution_count": null,
   "id": "da1fc50c",
   "metadata": {},
   "outputs": [],
   "source": []
  },
  {
   "cell_type": "code",
   "execution_count": 51,
   "id": "d3073358",
   "metadata": {},
   "outputs": [
    {
     "data": {
      "text/plain": [
       "['1809896.txt',\n",
       " '1809897.txt',\n",
       " '1809895.txt',\n",
       " '1809894.txt',\n",
       " '1809890.txt',\n",
       " '1809891.txt',\n",
       " '1809893.txt',\n",
       " '1809892.txt',\n",
       " '1809899.txt',\n",
       " '1809898.txt']"
      ]
     },
     "execution_count": 51,
     "metadata": {},
     "output_type": "execute_result"
    }
   ],
   "source": [
    "import nltk\n",
    "import konlpy\n",
    "from konlpy.corpus import kobill # kobill : konlpy에 내장되어 있는 법률안 읽어오는 함수\n",
    "\n",
    "files_ko = kobill.fileids() # kobill에는 team POPONG(pokr.kr)에 의해 취합된 의회 정보들이 존재\n",
    "files_ko #kobill에 담긴 문서 확인"
   ]
  },
  {
   "cell_type": "code",
   "execution_count": 52,
   "id": "337267fc",
   "metadata": {},
   "outputs": [
    {
     "data": {
      "text/plain": [
       "'고등교육법 일부개정법률안\\n\\n(안상수의원 대표발의 )\\n\\n 의 안\\n 번 호\\n\\n9894\\n\\n발의연월일 : 2010.  11.  15.\\n\\n발  의  자 : 안상수․김정훈․원희목 \\n\\n강석호․서상기․나성린 \\n\\n권영진․이춘식․정영희 \\n\\n이애주․안형환․백성운 \\n\\n김금래 의원(13인)\\n\\n제안이유 및 주요내용\\n\\n  현재 간호사의 경우 전문대학 졸업 또는 대학 졸업에 상관없이 면\\n\\n허증을 취득할 수 있지만, 학위의 종류가 전문학사이기 때문에 학사학\\n\\n위를 취득하기 위하여 87.2%가 별도로 학사학위 교육과정을 이수하고 \\n\\n있는 실정임.\\n\\n  이러한 4년제 간호 교육의 필요성과 선진 각국의 경향을 고려하고 \\n\\n국민에 대한 보다 나은 의료 서비스를 제공하기 위하여 대통령령이 \\n\\n정하는 일정한 기준을 충족하는 간호과에 대해서는 수업연한을 4년으\\n\\n로 하고, 수여하는 학위의 종류를 학사학위로 하도록 함(안 제50조의3 \\n\\n신설).\\n\\n- 1 -\\n\\n\\x0c법률  제        호\\n\\n고등교육법 일부개정법률안\\n\\n고등교육법 일부를 다음과 같이 개정한다.\\n\\n제50조의3을 다음과 같이 신설한다.\\n\\n제50조의3(간호과의 수업연한 및 학위에 관한 특례) ① 대통령령이 정\\n\\n하는 기준을 충족하는 간호과의 수업연한은 4년으로 한다.\\n\\n  ② 제1항의 간호과에서 학칙이 정하는 과정을 이수한 자에 대하여\\n\\n는 학사학위를 수여한다.\\n\\n  ③ 제2항의 학위의 종류 및 수여에 관하여 필요한 사항은 대통령령\\n\\n으로 정한다.\\n\\n부      칙\\n\\n① 이 법은 공포 후 6개월이 경과한 날부터 시행한다.\\n\\n② 이 법 시행 당시 수업연한이 4년으로 된 간호과에 재학 중인 자에 \\n\\n대해서는 본인의 신청에 의하여 종전의 수업연한 및 학위에 관한 규\\n\\n정을 적용할 수 있다.\\n\\n- 3 -\\n\\n\\x0c신·구조문대비표\\n\\n현      행\\n\\n개   정   안\\n\\n  <신  설>\\n\\n제50조의3(간호과의 수업연한 및 \\n\\n학위에 관한 특례) ① 대통령\\n\\n령이 정하는 기준을 충족하는 \\n\\n간호과의 수업연한은 4년으로 \\n\\n한다.\\n\\n  ② 제1항의 간호과에서 학칙이 \\n\\n정하는 과정을 이수한 자에 대\\n\\n하여는 학사학위를 수여한다.\\n\\n  ③ 제2항의 학위의 종류 및 수\\n\\n여에 관하여 필요한 사항은 대\\n\\n통령령으로 정한다.\\n\\n- 5 -\\n\\n\\x0c'"
      ]
     },
     "execution_count": 52,
     "metadata": {},
     "output_type": "execute_result"
    }
   ],
   "source": [
    "doc_ko = kobill.open(\"1809894.txt\").read()\n",
    "doc_ko"
   ]
  },
  {
   "cell_type": "code",
   "execution_count": 53,
   "id": "b8ba6c99",
   "metadata": {},
   "outputs": [
    {
     "data": {
      "text/plain": [
       "['고등',\n",
       " '교육법',\n",
       " '일부',\n",
       " '개정',\n",
       " '법률',\n",
       " '안',\n",
       " '안상수',\n",
       " '의원',\n",
       " '대표',\n",
       " '발의',\n",
       " '의',\n",
       " '안',\n",
       " '번',\n",
       " '호',\n",
       " '발의',\n",
       " '연월일',\n",
       " '발',\n",
       " '의',\n",
       " '자',\n",
       " '안상수',\n",
       " '김정훈',\n",
       " '원희목',\n",
       " '강석호',\n",
       " '서상기',\n",
       " '나성린',\n",
       " '권영진',\n",
       " '이춘식',\n",
       " '정영희',\n",
       " '이애주',\n",
       " '안형환',\n",
       " '백성운',\n",
       " '김금래',\n",
       " '의원',\n",
       " '인',\n",
       " '제안',\n",
       " '이유',\n",
       " '및',\n",
       " '내용',\n",
       " '현재',\n",
       " '간호사',\n",
       " '경우',\n",
       " '전문',\n",
       " '대학',\n",
       " '졸업',\n",
       " '대학',\n",
       " '졸업',\n",
       " '면',\n",
       " '증',\n",
       " '취득',\n",
       " '수',\n",
       " '학위',\n",
       " '종류',\n",
       " '문학사',\n",
       " '이기',\n",
       " '때문',\n",
       " '학',\n",
       " '사학',\n",
       " '위',\n",
       " '취득',\n",
       " '위',\n",
       " '별도',\n",
       " '학사',\n",
       " '학위',\n",
       " '교육과정',\n",
       " '이수',\n",
       " '실정',\n",
       " '임',\n",
       " '간호',\n",
       " '교육',\n",
       " '필요성',\n",
       " '선진',\n",
       " '각국',\n",
       " '경향',\n",
       " '고려',\n",
       " '국민',\n",
       " '대한',\n",
       " '나은',\n",
       " '의료',\n",
       " '서비스',\n",
       " '제공',\n",
       " '위',\n",
       " '대통령령',\n",
       " '정',\n",
       " '기준',\n",
       " '충족',\n",
       " '간호',\n",
       " '과',\n",
       " '대해',\n",
       " '수업',\n",
       " '연한',\n",
       " '로',\n",
       " '수여',\n",
       " '학위',\n",
       " '종류',\n",
       " '학사',\n",
       " '학위',\n",
       " '함',\n",
       " '안',\n",
       " '제',\n",
       " '신설',\n",
       " '법률',\n",
       " '제',\n",
       " '호',\n",
       " '고등',\n",
       " '교육법',\n",
       " '일부',\n",
       " '개정',\n",
       " '법률',\n",
       " '안',\n",
       " '고등',\n",
       " '교육법',\n",
       " '일부',\n",
       " '다음',\n",
       " '개정',\n",
       " '제',\n",
       " '다음',\n",
       " '신설',\n",
       " '제',\n",
       " '간호',\n",
       " '수업',\n",
       " '연한',\n",
       " '및',\n",
       " '학위',\n",
       " '관',\n",
       " '특례',\n",
       " '대통령령',\n",
       " '정',\n",
       " '기준',\n",
       " '충족',\n",
       " '간호',\n",
       " '수업',\n",
       " '연한',\n",
       " '제',\n",
       " '항의',\n",
       " '간호',\n",
       " '과',\n",
       " '학칙',\n",
       " '정',\n",
       " '과정',\n",
       " '이수',\n",
       " '자',\n",
       " '대하',\n",
       " '학사',\n",
       " '학위',\n",
       " '수여',\n",
       " '제',\n",
       " '항의',\n",
       " '학위',\n",
       " '종류',\n",
       " '및',\n",
       " '수여',\n",
       " '관',\n",
       " '사항',\n",
       " '대통령령',\n",
       " '정',\n",
       " '부',\n",
       " '칙',\n",
       " '이',\n",
       " '법',\n",
       " '공포',\n",
       " '후',\n",
       " '개월',\n",
       " '경과',\n",
       " '날',\n",
       " '시행',\n",
       " '이',\n",
       " '법',\n",
       " '시행',\n",
       " '당시',\n",
       " '수업',\n",
       " '연한',\n",
       " '간호',\n",
       " '과',\n",
       " '재학',\n",
       " '중인',\n",
       " '자',\n",
       " '대해',\n",
       " '본인',\n",
       " '신청',\n",
       " '종전',\n",
       " '수업',\n",
       " '연한',\n",
       " '및',\n",
       " '학위',\n",
       " '관',\n",
       " '규',\n",
       " '정',\n",
       " '적용',\n",
       " '수',\n",
       " '신',\n",
       " '구조',\n",
       " '문대비',\n",
       " '표',\n",
       " '현',\n",
       " '행',\n",
       " '개',\n",
       " '정',\n",
       " '안',\n",
       " '신',\n",
       " '설',\n",
       " '제',\n",
       " '간호',\n",
       " '수업',\n",
       " '연한',\n",
       " '및',\n",
       " '학위',\n",
       " '관',\n",
       " '특례',\n",
       " '대통령',\n",
       " '령',\n",
       " '정',\n",
       " '기준',\n",
       " '충족',\n",
       " '간호',\n",
       " '수업',\n",
       " '연한',\n",
       " '제',\n",
       " '항의',\n",
       " '간호',\n",
       " '과',\n",
       " '학칙',\n",
       " '정',\n",
       " '과정',\n",
       " '이수',\n",
       " '자',\n",
       " '학사',\n",
       " '학위',\n",
       " '수여',\n",
       " '제',\n",
       " '항의',\n",
       " '학위',\n",
       " '종류',\n",
       " '및',\n",
       " '수',\n",
       " '여',\n",
       " '관',\n",
       " '사항',\n",
       " '통령',\n",
       " '령',\n",
       " '정']"
      ]
     },
     "execution_count": 53,
     "metadata": {},
     "output_type": "execute_result"
    }
   ],
   "source": [
    "from konlpy.tag import Okt\n",
    "okt = Okt()\n",
    "\n",
    "nouns = okt.nouns(doc_ko) # 명사 분석\n",
    "nouns"
   ]
  },
  {
   "cell_type": "code",
   "execution_count": 54,
   "id": "b2a6c692",
   "metadata": {},
   "outputs": [
    {
     "name": "stdout",
     "output_type": "stream",
     "text": [
      "240\n",
      "121\n"
     ]
    },
    {
     "data": {
      "text/plain": [
       "FreqDist({'학위': 11, '간호': 9, '정': 9, '제': 9, '수업': 7, '연한': 7, '및': 6, '안': 5, '관': 5, '자': 4, ...})"
      ]
     },
     "execution_count": 54,
     "metadata": {},
     "output_type": "execute_result"
    }
   ],
   "source": [
    "ko = nltk.Text(nouns, name = \"의안 제1809894호\")\n",
    "\n",
    "print(len(ko.tokens)) # 수집된 단어의 횟수\n",
    "print(len(set(ko.tokens))) # 수집된 단어의 고유한 횟수\n",
    "\n",
    "ko.vocab() # 단어별 빈도"
   ]
  },
  {
   "cell_type": "code",
   "execution_count": 67,
   "id": "8fd54960",
   "metadata": {},
   "outputs": [
    {
     "data": {
      "image/png": "[encoded data removed]",
      "text/plain": [
       "<Figure size 864x432 with 1 Axes>"
      ]
     },
     "metadata": {
      "needs_background": "light"
     },
     "output_type": "display_data"
    }
   ],
   "source": [
    "import matplotlib.pyplot as plt\n",
    "%matplotlib inline\n",
    "\n",
    "\n",
    "# 한글 안깨지게\n",
    "import platform\n",
    "path = \"/Users/yooseungli/Library/Fonts/한국외대체B.otf\"\n",
    "from matplotlib import font_manager, rc\n",
    "\n",
    "font_name = font_manager.FontProperties(fname = path).get_name()\n",
    "rc('font', family = font_name)\n",
    "\n",
    "\n",
    "plt.figure(figsize = (12, 6))\n",
    "ko.plot(50) # 많이 등장한 50개 순으로 그래프\n",
    "plt.show()"
   ]
  },
  {
   "cell_type": "code",
   "execution_count": 58,
   "id": "8270732f",
   "metadata": {},
   "outputs": [
    {
     "name": "stdout",
     "output_type": "stream",
     "text": [
      "Requirement already satisfied: wordcloud in /Users/yooseungli/opt/anaconda3/lib/python3.8/site-packages (1.8.1)\r\n",
      "Requirement already satisfied: matplotlib in /Users/yooseungli/opt/anaconda3/lib/python3.8/site-packages (from wordcloud) (3.3.4)\r\n",
      "Requirement already satisfied: numpy>=1.6.1 in /Users/yooseungli/opt/anaconda3/lib/python3.8/site-packages (from wordcloud) (1.20.1)\r\n",
      "Requirement already satisfied: pillow in /Users/yooseungli/opt/anaconda3/lib/python3.8/site-packages (from wordcloud) (8.2.0)\r\n",
      "Requirement already satisfied: cycler>=0.10 in /Users/yooseungli/opt/anaconda3/lib/python3.8/site-packages (from matplotlib->wordcloud) (0.10.0)\r\n",
      "Requirement already satisfied: python-dateutil>=2.1 in /Users/yooseungli/opt/anaconda3/lib/python3.8/site-packages (from matplotlib->wordcloud) (2.8.1)\r\n",
      "Requirement already satisfied: kiwisolver>=1.0.1 in /Users/yooseungli/opt/anaconda3/lib/python3.8/site-packages (from matplotlib->wordcloud) (1.3.1)\r\n",
      "Requirement already satisfied: pyparsing!=2.0.4,!=2.1.2,!=2.1.6,>=2.0.3 in /Users/yooseungli/opt/anaconda3/lib/python3.8/site-packages (from matplotlib->wordcloud) (2.4.7)\r\n",
      "Requirement already satisfied: six in /Users/yooseungli/opt/anaconda3/lib/python3.8/site-packages (from cycler>=0.10->matplotlib->wordcloud) (1.15.0)\r\n"
     ]
    }
   ],
   "source": [
    "!pip install wordcloud"
   ]
  },
  {
   "cell_type": "code",
   "execution_count": 59,
   "id": "3e52ac3e",
   "metadata": {},
   "outputs": [
    {
     "data": {
      "text/plain": [
       "['고등',\n",
       " '교육법',\n",
       " '일부',\n",
       " '개정',\n",
       " '법률',\n",
       " '안상수',\n",
       " '의원',\n",
       " '대표',\n",
       " '발의',\n",
       " '번',\n",
       " '호',\n",
       " '발의',\n",
       " '연월일',\n",
       " '자',\n",
       " '안상수',\n",
       " '김정훈',\n",
       " '원희목',\n",
       " '강석호',\n",
       " '서상기',\n",
       " '나성린',\n",
       " '권영진',\n",
       " '이춘식',\n",
       " '정영희',\n",
       " '이애주',\n",
       " '안형환',\n",
       " '백성운',\n",
       " '김금래',\n",
       " '의원',\n",
       " '인',\n",
       " '제안',\n",
       " '이유',\n",
       " '내용',\n",
       " '현재',\n",
       " '간호사',\n",
       " '경우',\n",
       " '전문',\n",
       " '대학',\n",
       " '졸업',\n",
       " '대학',\n",
       " '졸업',\n",
       " '면',\n",
       " '증',\n",
       " '취득',\n",
       " '학위',\n",
       " '종류',\n",
       " '문학사',\n",
       " '이기',\n",
       " '때문',\n",
       " '학',\n",
       " '사학',\n",
       " '위',\n",
       " '취득',\n",
       " '위',\n",
       " '별도',\n",
       " '학사',\n",
       " '학위',\n",
       " '교육과정',\n",
       " '이수',\n",
       " '실정',\n",
       " '임',\n",
       " '간호',\n",
       " '교육',\n",
       " '필요성',\n",
       " '선진',\n",
       " '각국',\n",
       " '경향',\n",
       " '고려',\n",
       " '국민',\n",
       " '대한',\n",
       " '나은',\n",
       " '의료',\n",
       " '서비스',\n",
       " '제공',\n",
       " '위',\n",
       " '대통령령',\n",
       " '기준',\n",
       " '충족',\n",
       " '간호',\n",
       " '대해',\n",
       " '수업',\n",
       " '연한',\n",
       " '로',\n",
       " '수여',\n",
       " '학위',\n",
       " '종류',\n",
       " '학사',\n",
       " '학위',\n",
       " '함',\n",
       " '신설',\n",
       " '법률',\n",
       " '호',\n",
       " '고등',\n",
       " '교육법',\n",
       " '일부',\n",
       " '개정',\n",
       " '법률',\n",
       " '고등',\n",
       " '교육법',\n",
       " '일부',\n",
       " '다음',\n",
       " '개정',\n",
       " '다음',\n",
       " '신설',\n",
       " '간호',\n",
       " '수업',\n",
       " '연한',\n",
       " '학위',\n",
       " '관',\n",
       " '특례',\n",
       " '대통령령',\n",
       " '기준',\n",
       " '충족',\n",
       " '간호',\n",
       " '수업',\n",
       " '연한',\n",
       " '항의',\n",
       " '간호',\n",
       " '학칙',\n",
       " '과정',\n",
       " '이수',\n",
       " '자',\n",
       " '대하',\n",
       " '학사',\n",
       " '학위',\n",
       " '수여',\n",
       " '항의',\n",
       " '학위',\n",
       " '종류',\n",
       " '수여',\n",
       " '관',\n",
       " '사항',\n",
       " '대통령령',\n",
       " '부',\n",
       " '칙',\n",
       " '법',\n",
       " '공포',\n",
       " '후',\n",
       " '개월',\n",
       " '경과',\n",
       " '날',\n",
       " '시행',\n",
       " '법',\n",
       " '시행',\n",
       " '당시',\n",
       " '수업',\n",
       " '연한',\n",
       " '간호',\n",
       " '재학',\n",
       " '중인',\n",
       " '자',\n",
       " '대해',\n",
       " '본인',\n",
       " '신청',\n",
       " '종전',\n",
       " '수업',\n",
       " '연한',\n",
       " '학위',\n",
       " '관',\n",
       " '규',\n",
       " '적용',\n",
       " '신',\n",
       " '구조',\n",
       " '문대비',\n",
       " '표',\n",
       " '현',\n",
       " '행',\n",
       " '개',\n",
       " '신',\n",
       " '설',\n",
       " '간호',\n",
       " '수업',\n",
       " '연한',\n",
       " '학위',\n",
       " '관',\n",
       " '특례',\n",
       " '대통령',\n",
       " '령',\n",
       " '기준',\n",
       " '충족',\n",
       " '간호',\n",
       " '수업',\n",
       " '연한',\n",
       " '항의',\n",
       " '간호',\n",
       " '학칙',\n",
       " '과정',\n",
       " '이수',\n",
       " '자',\n",
       " '학사',\n",
       " '학위',\n",
       " '수여',\n",
       " '항의',\n",
       " '학위',\n",
       " '종류',\n",
       " '여',\n",
       " '관',\n",
       " '사항',\n",
       " '통령',\n",
       " '령']"
      ]
     },
     "execution_count": 59,
     "metadata": {},
     "output_type": "execute_result"
    }
   ],
   "source": [
    "from wordcloud import WordCloud\n",
    "\n",
    "stopwords = [\"정\", \"제\", \"및\", \"안\", \"지\", \"과\", \"수\", \"의\", \"이\", \"발\"]\n",
    "ko = [each_word for each_word in ko if each_word not in stopwords]\n",
    "ko"
   ]
  },
  {
   "cell_type": "code",
   "execution_count": 61,
   "id": "e30e56a8",
   "metadata": {},
   "outputs": [
    {
     "data": {
      "image/png": "[encoded data removed]",
      "text/plain": [
       "<Figure size 864x432 with 1 Axes>"
      ]
     },
     "metadata": {
      "needs_background": "light"
     },
     "output_type": "display_data"
    }
   ],
   "source": [
    "ko = nltk.Text(ko, name = \"의안 제1809894호\")\n",
    "\n",
    "plt.figure(figsize = (12, 6))\n",
    "ko.plot(50)\n",
    "plt.show()"
   ]
  },
  {
   "cell_type": "code",
   "execution_count": 66,
   "id": "fb644cc6",
   "metadata": {},
   "outputs": [
    {
     "data": {
      "image/png": "[encoded data removed]",
      "text/plain": [
       "<Figure size 864x576 with 1 Axes>"
      ]
     },
     "metadata": {
      "needs_background": "light"
     },
     "output_type": "display_data"
    }
   ],
   "source": [
    "data = ko.vocab().most_common(30)\n",
    "\n",
    "wordcloud = WordCloud(font_path = \"/Users/yooseungli/Library/Fonts/한국외대체B.otf\", background_color = \"white\").generate_from_frequencies(dict(data))\n",
    "\n",
    "plt.figure(figsize = (12, 8))\n",
    "plt.imshow(wordcloud)\n",
    "plt.axis(\"off\")\n",
    "plt.show()"
   ]
  },
  {
   "cell_type": "code",
   "execution_count": null,
   "id": "f59355eb",
   "metadata": {},
   "outputs": [],
   "source": []
  }
 ],
 "metadata": {
  "kernelspec": {
   "display_name": "Python 3",
   "language": "python",
   "name": "python3"
  },
  "language_info": {
   "codemirror_mode": {
    "name": "ipython",
    "version": 3
   },
   "file_extension": ".py",
   "mimetype": "text/x-python",
   "name": "python",
   "nbconvert_exporter": "python",
   "pygments_lexer": "ipython3",
   "version": "3.8.8"
  }
 },
 "nbformat": 4,
 "nbformat_minor": 5
}
