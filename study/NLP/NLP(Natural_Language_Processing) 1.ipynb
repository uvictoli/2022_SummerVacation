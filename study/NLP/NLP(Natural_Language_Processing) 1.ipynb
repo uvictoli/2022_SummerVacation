{
 "cells": [
  {
   "cell_type": "markdown",
   "id": "644753c3",
   "metadata": {},
   "source": [
    "## 정규표현식\n",
    "- raw string"
   ]
  },
  {
   "cell_type": "code",
   "execution_count": 3,
   "id": "e35f8755",
   "metadata": {},
   "outputs": [
    {
     "name": "stdout",
     "output_type": "stream",
     "text": [
      "abc\n",
      "\n"
     ]
    }
   ],
   "source": [
    "a = \"abc\\n\"\n",
    "print(a)"
   ]
  },
  {
   "cell_type": "code",
   "execution_count": 4,
   "id": "879bc669",
   "metadata": {},
   "outputs": [
    {
     "name": "stdout",
     "output_type": "stream",
     "text": [
      "abc\\n\n"
     ]
    }
   ],
   "source": [
    "b = r\"abc\\n\"\n",
    "print(b)"
   ]
  },
  {
   "cell_type": "markdown",
   "id": "b6329afb",
   "metadata": {},
   "source": [
    "### - re.search() 함수\n",
    "### - re.compile() 함수"
   ]
  },
  {
   "cell_type": "code",
   "execution_count": 2,
   "id": "0281ee28",
   "metadata": {},
   "outputs": [],
   "source": [
    "import re"
   ]
  },
  {
   "cell_type": "code",
   "execution_count": 7,
   "id": "98dc47b1",
   "metadata": {},
   "outputs": [
    {
     "data": {
      "text/plain": [
       "<re.Match object; span=(3, 6), match='abc'>"
      ]
     },
     "execution_count": 7,
     "metadata": {},
     "output_type": "execute_result"
    }
   ],
   "source": [
    "r = re.search(r\"abc\", \"123abcdef\")\n",
    "r"
   ]
  },
  {
   "cell_type": "code",
   "execution_count": 8,
   "id": "4ef4ed74",
   "metadata": {},
   "outputs": [
    {
     "data": {
      "text/plain": [
       "<re.Match object; span=(3, 6), match='abc'>"
      ]
     },
     "execution_count": 8,
     "metadata": {},
     "output_type": "execute_result"
    }
   ],
   "source": [
    "r = re.compile(\"abc\")\n",
    "r.search(\"123abcdef\")"
   ]
  },
  {
   "cell_type": "code",
   "execution_count": 12,
   "id": "843d2b8f",
   "metadata": {},
   "outputs": [],
   "source": [
    "r = re.search(r\"abc\", \"123abdef\")\n",
    "r"
   ]
  },
  {
   "cell_type": "code",
   "execution_count": 10,
   "id": "b2b61a01",
   "metadata": {},
   "outputs": [],
   "source": [
    "r = re.compile(\"abc\")\n",
    "r.search(\"123abdef\")"
   ]
  },
  {
   "cell_type": "code",
   "execution_count": 11,
   "id": "ad6ceb3f",
   "metadata": {},
   "outputs": [
    {
     "data": {
      "text/plain": [
       "<re.Match object; span=(0, 4), match='112a'>"
      ]
     },
     "execution_count": 11,
     "metadata": {},
     "output_type": "execute_result"
    }
   ],
   "source": [
    "r = re.search(r\"\\d\\d\\d\\w\", \"112abcdef119\")\n",
    "r"
   ]
  },
  {
   "cell_type": "markdown",
   "id": "be0c6fec",
   "metadata": {},
   "source": [
    "### - 정규표현식 . 기호"
   ]
  },
  {
   "cell_type": "code",
   "execution_count": 13,
   "id": "f9698ff1",
   "metadata": {},
   "outputs": [],
   "source": [
    "r = re.compile(\"a.c\")\n",
    "r.search(\"kkk\")"
   ]
  },
  {
   "cell_type": "code",
   "execution_count": 14,
   "id": "3fd84feb",
   "metadata": {},
   "outputs": [
    {
     "data": {
      "text/plain": [
       "<re.Match object; span=(0, 3), match='abc'>"
      ]
     },
     "execution_count": 14,
     "metadata": {},
     "output_type": "execute_result"
    }
   ],
   "source": [
    "r.search(\"abc\")"
   ]
  },
  {
   "cell_type": "markdown",
   "id": "2683d93d",
   "metadata": {},
   "source": [
    "### - 정규표현식  ? 기호"
   ]
  },
  {
   "cell_type": "code",
   "execution_count": 15,
   "id": "784dd7e4",
   "metadata": {},
   "outputs": [],
   "source": [
    "r = re.compile(\"ab?c\")"
   ]
  },
  {
   "cell_type": "code",
   "execution_count": 16,
   "id": "ec468357",
   "metadata": {},
   "outputs": [
    {
     "name": "stdout",
     "output_type": "stream",
     "text": [
      "<re.Match object; span=(0, 2), match='ac'>\n"
     ]
    }
   ],
   "source": [
    "print(r.search(\"ac\"))"
   ]
  },
  {
   "cell_type": "code",
   "execution_count": 17,
   "id": "029451cc",
   "metadata": {},
   "outputs": [
    {
     "name": "stdout",
     "output_type": "stream",
     "text": [
      "None\n"
     ]
    }
   ],
   "source": [
    "print(r.search(\"abbc\"))"
   ]
  },
  {
   "cell_type": "code",
   "execution_count": 18,
   "id": "77f1a032",
   "metadata": {},
   "outputs": [
    {
     "name": "stdout",
     "output_type": "stream",
     "text": [
      "<re.Match object; span=(0, 3), match='abc'>\n"
     ]
    }
   ],
   "source": [
    "print(r.search(\"abc\"))"
   ]
  },
  {
   "cell_type": "markdown",
   "id": "219b2acf",
   "metadata": {},
   "source": [
    "### - 정규표현식 * 기호"
   ]
  },
  {
   "cell_type": "code",
   "execution_count": 20,
   "id": "4954130d",
   "metadata": {},
   "outputs": [],
   "source": [
    "r = re.compile(\"ab*c\")"
   ]
  },
  {
   "cell_type": "code",
   "execution_count": 21,
   "id": "5bd37b22",
   "metadata": {},
   "outputs": [],
   "source": [
    "r.search(\"a\")"
   ]
  },
  {
   "cell_type": "code",
   "execution_count": 22,
   "id": "6ad2a538",
   "metadata": {},
   "outputs": [
    {
     "data": {
      "text/plain": [
       "<re.Match object; span=(0, 2), match='ac'>"
      ]
     },
     "execution_count": 22,
     "metadata": {},
     "output_type": "execute_result"
    }
   ],
   "source": [
    "r.search(\"ac\")"
   ]
  },
  {
   "cell_type": "code",
   "execution_count": 23,
   "id": "c6650c97",
   "metadata": {},
   "outputs": [
    {
     "data": {
      "text/plain": [
       "<re.Match object; span=(0, 3), match='abc'>"
      ]
     },
     "execution_count": 23,
     "metadata": {},
     "output_type": "execute_result"
    }
   ],
   "source": [
    "r.search(\"abc\")"
   ]
  },
  {
   "cell_type": "code",
   "execution_count": 24,
   "id": "70105472",
   "metadata": {},
   "outputs": [
    {
     "data": {
      "text/plain": [
       "<re.Match object; span=(0, 8), match='abbbbbbc'>"
      ]
     },
     "execution_count": 24,
     "metadata": {},
     "output_type": "execute_result"
    }
   ],
   "source": [
    "r.search(\"abbbbbbc\")"
   ]
  },
  {
   "cell_type": "markdown",
   "id": "6bc3731d",
   "metadata": {},
   "source": [
    "### - 정규표현식 + 기호"
   ]
  },
  {
   "cell_type": "code",
   "execution_count": 25,
   "id": "cec826bd",
   "metadata": {},
   "outputs": [],
   "source": [
    "r = re.compile(\"ab+c\")"
   ]
  },
  {
   "cell_type": "code",
   "execution_count": 26,
   "id": "1361f8de",
   "metadata": {},
   "outputs": [],
   "source": [
    "r.search(\"ac\")"
   ]
  },
  {
   "cell_type": "code",
   "execution_count": 27,
   "id": "db7a53ea",
   "metadata": {},
   "outputs": [
    {
     "data": {
      "text/plain": [
       "<re.Match object; span=(0, 3), match='abc'>"
      ]
     },
     "execution_count": 27,
     "metadata": {},
     "output_type": "execute_result"
    }
   ],
   "source": [
    "r.search(\"abc\")"
   ]
  },
  {
   "cell_type": "code",
   "execution_count": 29,
   "id": "522bc3cd",
   "metadata": {},
   "outputs": [
    {
     "data": {
      "text/plain": [
       "<re.Match object; span=(0, 8), match='abbbbbbc'>"
      ]
     },
     "execution_count": 29,
     "metadata": {},
     "output_type": "execute_result"
    }
   ],
   "source": [
    "r.search(\"abbbbbbc\")"
   ]
  },
  {
   "cell_type": "markdown",
   "id": "6641dfce",
   "metadata": {},
   "source": [
    "### - 정규표현식 ^ 기호"
   ]
  },
  {
   "cell_type": "code",
   "execution_count": 30,
   "id": "a8b2b115",
   "metadata": {},
   "outputs": [],
   "source": [
    "r = re.compile(\"^a\")"
   ]
  },
  {
   "cell_type": "code",
   "execution_count": 31,
   "id": "bd39e120",
   "metadata": {},
   "outputs": [],
   "source": [
    "r.search(\"bcad\")"
   ]
  },
  {
   "cell_type": "code",
   "execution_count": 32,
   "id": "45c98e9a",
   "metadata": {},
   "outputs": [
    {
     "data": {
      "text/plain": [
       "<re.Match object; span=(0, 1), match='a'>"
      ]
     },
     "execution_count": 32,
     "metadata": {},
     "output_type": "execute_result"
    }
   ],
   "source": [
    "r.search(\"ab\")"
   ]
  },
  {
   "cell_type": "markdown",
   "id": "70bf1787",
   "metadata": {},
   "source": [
    "### - 정규표현식 $ 기호"
   ]
  },
  {
   "cell_type": "code",
   "execution_count": 33,
   "id": "f62a9998",
   "metadata": {},
   "outputs": [],
   "source": [
    "r = re.compile(\"a$\")"
   ]
  },
  {
   "cell_type": "code",
   "execution_count": 34,
   "id": "f06fd2d1",
   "metadata": {},
   "outputs": [
    {
     "data": {
      "text/plain": [
       "<re.Match object; span=(2, 3), match='a'>"
      ]
     },
     "execution_count": 34,
     "metadata": {},
     "output_type": "execute_result"
    }
   ],
   "source": [
    "r.search(\"cba\")"
   ]
  },
  {
   "cell_type": "code",
   "execution_count": 35,
   "id": "068a29b8",
   "metadata": {},
   "outputs": [
    {
     "data": {
      "text/plain": [
       "<re.Match object; span=(0, 1), match='a'>"
      ]
     },
     "execution_count": 35,
     "metadata": {},
     "output_type": "execute_result"
    }
   ],
   "source": [
    "r.search(\"a\")"
   ]
  },
  {
   "cell_type": "code",
   "execution_count": 36,
   "id": "2cd7bb05",
   "metadata": {},
   "outputs": [],
   "source": [
    "r.search(\"abc\")"
   ]
  },
  {
   "cell_type": "markdown",
   "id": "d6b631ce",
   "metadata": {},
   "source": [
    "### - 정규표현식 {숫자} 기호"
   ]
  },
  {
   "cell_type": "code",
   "execution_count": 40,
   "id": "95decc20",
   "metadata": {},
   "outputs": [],
   "source": [
    "r = re.compile(\"ab{2}c\")"
   ]
  },
  {
   "cell_type": "code",
   "execution_count": 41,
   "id": "fad9ba91",
   "metadata": {},
   "outputs": [],
   "source": [
    "r.search(\"abc\")"
   ]
  },
  {
   "cell_type": "code",
   "execution_count": 45,
   "id": "57fed082",
   "metadata": {},
   "outputs": [
    {
     "data": {
      "text/plain": [
       "<re.Match object; span=(0, 4), match='abbc'>"
      ]
     },
     "execution_count": 45,
     "metadata": {},
     "output_type": "execute_result"
    }
   ],
   "source": [
    "r.search(\"abbc\")"
   ]
  },
  {
   "cell_type": "code",
   "execution_count": 46,
   "id": "54fe3eb1",
   "metadata": {},
   "outputs": [],
   "source": [
    "r.search(\"abbbc\")"
   ]
  },
  {
   "cell_type": "markdown",
   "id": "24d71437",
   "metadata": {},
   "source": [
    "### - 정규표현식 {숫자 1, 숫자2} 기호"
   ]
  },
  {
   "cell_type": "code",
   "execution_count": 57,
   "id": "a02ccd3b",
   "metadata": {},
   "outputs": [],
   "source": [
    "r = re.compile(\"ab{2,8}c\")"
   ]
  },
  {
   "cell_type": "code",
   "execution_count": 58,
   "id": "9ee5945e",
   "metadata": {},
   "outputs": [],
   "source": [
    "r.search(\"abc\")"
   ]
  },
  {
   "cell_type": "code",
   "execution_count": 59,
   "id": "5ce015a2",
   "metadata": {},
   "outputs": [
    {
     "data": {
      "text/plain": [
       "<re.Match object; span=(0, 5), match='abbbc'>"
      ]
     },
     "execution_count": 59,
     "metadata": {},
     "output_type": "execute_result"
    }
   ],
   "source": [
    "r.search(\"abbbc\")"
   ]
  },
  {
   "cell_type": "code",
   "execution_count": 60,
   "id": "95861637",
   "metadata": {},
   "outputs": [
    {
     "data": {
      "text/plain": [
       "<re.Match object; span=(0, 8), match='abbbbbbc'>"
      ]
     },
     "execution_count": 60,
     "metadata": {},
     "output_type": "execute_result"
    }
   ],
   "source": [
    "r.search(\"abbbbbbc\")"
   ]
  },
  {
   "cell_type": "code",
   "execution_count": 61,
   "id": "cfe3b543",
   "metadata": {},
   "outputs": [],
   "source": [
    "r.search(\"abbbbbbbbbbbbbbbbbbc\")"
   ]
  },
  {
   "cell_type": "markdown",
   "id": "f7ac77b7",
   "metadata": {},
   "source": [
    "### - 정규표현식 {숫자, } 기호"
   ]
  },
  {
   "cell_type": "code",
   "execution_count": 62,
   "id": "dd0a47f1",
   "metadata": {},
   "outputs": [],
   "source": [
    "r = re.compile(\"ab{2,}c\")"
   ]
  },
  {
   "cell_type": "code",
   "execution_count": 63,
   "id": "2096fd4f",
   "metadata": {},
   "outputs": [],
   "source": [
    "r.search(\"abc\")"
   ]
  },
  {
   "cell_type": "code",
   "execution_count": 64,
   "id": "21cb8774",
   "metadata": {},
   "outputs": [
    {
     "data": {
      "text/plain": [
       "<re.Match object; span=(0, 5), match='abbbc'>"
      ]
     },
     "execution_count": 64,
     "metadata": {},
     "output_type": "execute_result"
    }
   ],
   "source": [
    "r.search(\"abbbc\")"
   ]
  },
  {
   "cell_type": "code",
   "execution_count": 65,
   "id": "28a79bf0",
   "metadata": {},
   "outputs": [
    {
     "data": {
      "text/plain": [
       "<re.Match object; span=(0, 20), match='abbbbbbbbbbbbbbbbbbc'>"
      ]
     },
     "execution_count": 65,
     "metadata": {},
     "output_type": "execute_result"
    }
   ],
   "source": [
    "r.search(\"abbbbbbbbbbbbbbbbbbc\")"
   ]
  },
  {
   "cell_type": "markdown",
   "id": "61a2a833",
   "metadata": {},
   "source": [
    "### - 정규표현식 [문자] 기호"
   ]
  },
  {
   "cell_type": "code",
   "execution_count": 66,
   "id": "3fec172f",
   "metadata": {},
   "outputs": [],
   "source": [
    "r = re.compile(\"[abc]\")"
   ]
  },
  {
   "cell_type": "code",
   "execution_count": 67,
   "id": "874c57d4",
   "metadata": {},
   "outputs": [
    {
     "data": {
      "text/plain": [
       "<re.Match object; span=(0, 1), match='a'>"
      ]
     },
     "execution_count": 67,
     "metadata": {},
     "output_type": "execute_result"
    }
   ],
   "source": [
    "r.search(\"aaa\")"
   ]
  },
  {
   "cell_type": "code",
   "execution_count": 68,
   "id": "30ddaea3",
   "metadata": {},
   "outputs": [
    {
     "data": {
      "text/plain": [
       "<re.Match object; span=(0, 1), match='a'>"
      ]
     },
     "execution_count": 68,
     "metadata": {},
     "output_type": "execute_result"
    }
   ],
   "source": [
    "r.search(\"abbbc\")"
   ]
  },
  {
   "cell_type": "code",
   "execution_count": 69,
   "id": "127219dd",
   "metadata": {},
   "outputs": [
    {
     "data": {
      "text/plain": [
       "<re.Match object; span=(0, 1), match='c'>"
      ]
     },
     "execution_count": 69,
     "metadata": {},
     "output_type": "execute_result"
    }
   ],
   "source": [
    "r.search(\"cba\")"
   ]
  },
  {
   "cell_type": "code",
   "execution_count": 70,
   "id": "593d52b2",
   "metadata": {},
   "outputs": [],
   "source": [
    "r.search(\"ddd\")"
   ]
  },
  {
   "cell_type": "markdown",
   "id": "09be3ead",
   "metadata": {},
   "source": [
    "### Type Markdown and LaTeX : $a^2$"
   ]
  },
  {
   "cell_type": "code",
   "execution_count": 71,
   "id": "f9491e4b",
   "metadata": {},
   "outputs": [],
   "source": [
    "r = re.compile(\"[a-z]\")"
   ]
  },
  {
   "cell_type": "code",
   "execution_count": 72,
   "id": "78756d95",
   "metadata": {},
   "outputs": [
    {
     "data": {
      "text/plain": [
       "<re.Match object; span=(1, 2), match='e'>"
      ]
     },
     "execution_count": 72,
     "metadata": {},
     "output_type": "execute_result"
    }
   ],
   "source": [
    "r.search(\"Pengsoo\")"
   ]
  },
  {
   "cell_type": "code",
   "execution_count": 73,
   "id": "ee3671e4",
   "metadata": {},
   "outputs": [
    {
     "data": {
      "text/plain": [
       "<re.Match object; span=(0, 1), match='p'>"
      ]
     },
     "execution_count": 73,
     "metadata": {},
     "output_type": "execute_result"
    }
   ],
   "source": [
    "r.search(\"pengSoo\")"
   ]
  },
  {
   "cell_type": "code",
   "execution_count": 74,
   "id": "5a630303",
   "metadata": {},
   "outputs": [
    {
     "data": {
      "text/plain": [
       "<re.Match object; span=(6, 7), match='o'>"
      ]
     },
     "execution_count": 74,
     "metadata": {},
     "output_type": "execute_result"
    }
   ],
   "source": [
    "r.search(\"PENGSOo\")"
   ]
  },
  {
   "cell_type": "code",
   "execution_count": 75,
   "id": "7a34188d",
   "metadata": {},
   "outputs": [],
   "source": [
    "r.search(\"PENGSOO\")"
   ]
  },
  {
   "cell_type": "code",
   "execution_count": 76,
   "id": "238443c9",
   "metadata": {},
   "outputs": [],
   "source": [
    "r.search(\"111\")"
   ]
  },
  {
   "cell_type": "markdown",
   "id": "e39b9245",
   "metadata": {},
   "source": [
    "### - 정규표현식 [^문자] 기호"
   ]
  },
  {
   "cell_type": "code",
   "execution_count": 77,
   "id": "ee617c39",
   "metadata": {},
   "outputs": [],
   "source": [
    "r = re.compile(\"[^abc]\")"
   ]
  },
  {
   "cell_type": "code",
   "execution_count": 85,
   "id": "9af18f94",
   "metadata": {},
   "outputs": [
    {
     "data": {
      "text/plain": [
       "<re.Match object; span=(0, 1), match='a'>"
      ]
     },
     "execution_count": 85,
     "metadata": {},
     "output_type": "execute_result"
    }
   ],
   "source": [
    "r.search(\"a\")"
   ]
  },
  {
   "cell_type": "code",
   "execution_count": 87,
   "id": "1bdc5f3f",
   "metadata": {},
   "outputs": [],
   "source": [
    "r.search(\"b\")"
   ]
  },
  {
   "cell_type": "code",
   "execution_count": 79,
   "id": "1d99cf19",
   "metadata": {},
   "outputs": [],
   "source": [
    "r.search(\"ab\")"
   ]
  },
  {
   "cell_type": "code",
   "execution_count": 80,
   "id": "be2df9ef",
   "metadata": {},
   "outputs": [
    {
     "data": {
      "text/plain": [
       "<re.Match object; span=(0, 1), match='p'>"
      ]
     },
     "execution_count": 80,
     "metadata": {},
     "output_type": "execute_result"
    }
   ],
   "source": [
    "r.search(\"pengsoo\")"
   ]
  },
  {
   "cell_type": "code",
   "execution_count": 81,
   "id": "ed07be43",
   "metadata": {},
   "outputs": [
    {
     "data": {
      "text/plain": [
       "<re.Match object; span=(0, 1), match='1'>"
      ]
     },
     "execution_count": 81,
     "metadata": {},
     "output_type": "execute_result"
    }
   ],
   "source": [
    "r.search(\"111\")"
   ]
  },
  {
   "cell_type": "markdown",
   "id": "7fb36105",
   "metadata": {},
   "source": [
    "### - 정규표현식 | 기호"
   ]
  },
  {
   "cell_type": "code",
   "execution_count": 82,
   "id": "6c570adf",
   "metadata": {},
   "outputs": [],
   "source": [
    "r = re.compile(\"[a|A]\")"
   ]
  },
  {
   "cell_type": "code",
   "execution_count": 83,
   "id": "419cbe2e",
   "metadata": {},
   "outputs": [
    {
     "data": {
      "text/plain": [
       "<re.Match object; span=(1, 2), match='a'>"
      ]
     },
     "execution_count": 83,
     "metadata": {},
     "output_type": "execute_result"
    }
   ],
   "source": [
    "r.search(\"banana\")"
   ]
  },
  {
   "cell_type": "code",
   "execution_count": 84,
   "id": "24f80729",
   "metadata": {},
   "outputs": [
    {
     "data": {
      "text/plain": [
       "<re.Match object; span=(1, 2), match='A'>"
      ]
     },
     "execution_count": 84,
     "metadata": {},
     "output_type": "execute_result"
    }
   ],
   "source": [
    "r.search(\"BANANA\")"
   ]
  },
  {
   "cell_type": "code",
   "execution_count": 88,
   "id": "52927318",
   "metadata": {},
   "outputs": [],
   "source": [
    "r.search(\"pengsoo\")"
   ]
  },
  {
   "cell_type": "markdown",
   "id": "44e202cb",
   "metadata": {},
   "source": [
    "### - 정규표현식 함수"
   ]
  },
  {
   "cell_type": "code",
   "execution_count": 89,
   "id": "40c5a54c",
   "metadata": {},
   "outputs": [],
   "source": [
    "r = re.compile(\"ab.\")"
   ]
  },
  {
   "cell_type": "code",
   "execution_count": 90,
   "id": "ddd57bbd",
   "metadata": {},
   "outputs": [
    {
     "data": {
      "text/plain": [
       "<re.Match object; span=(3, 6), match='abc'>"
      ]
     },
     "execution_count": 90,
     "metadata": {},
     "output_type": "execute_result"
    }
   ],
   "source": [
    "r.search(\"kkkabc\")"
   ]
  },
  {
   "cell_type": "markdown",
   "id": "4588265b",
   "metadata": {},
   "source": [
    "### - re.match() 함수"
   ]
  },
  {
   "cell_type": "code",
   "execution_count": 91,
   "id": "07022d16",
   "metadata": {},
   "outputs": [],
   "source": [
    "r.match(\"kkkabc\")"
   ]
  },
  {
   "cell_type": "code",
   "execution_count": 92,
   "id": "2eff7728",
   "metadata": {},
   "outputs": [
    {
     "data": {
      "text/plain": [
       "<re.Match object; span=(0, 3), match='abc'>"
      ]
     },
     "execution_count": 92,
     "metadata": {},
     "output_type": "execute_result"
    }
   ],
   "source": [
    "r.match(\"abckkk\")"
   ]
  },
  {
   "cell_type": "code",
   "execution_count": 94,
   "id": "0d11b900",
   "metadata": {},
   "outputs": [],
   "source": [
    "r = re.compile(\"\\d\\d\\d\")"
   ]
  },
  {
   "cell_type": "code",
   "execution_count": 98,
   "id": "9cdedc9f",
   "metadata": {},
   "outputs": [],
   "source": [
    "r.match(\"abc123\")"
   ]
  },
  {
   "cell_type": "code",
   "execution_count": 99,
   "id": "fba51c8d",
   "metadata": {},
   "outputs": [
    {
     "data": {
      "text/plain": [
       "<re.Match object; span=(0, 3), match='123'>"
      ]
     },
     "execution_count": 99,
     "metadata": {},
     "output_type": "execute_result"
    }
   ],
   "source": [
    "r.match(\"123abc\")"
   ]
  },
  {
   "cell_type": "markdown",
   "id": "f6c1727c",
   "metadata": {},
   "source": [
    "### - re.findall() 함수"
   ]
  },
  {
   "cell_type": "code",
   "execution_count": 100,
   "id": "ffa73c45",
   "metadata": {},
   "outputs": [],
   "source": [
    "txt = \"\"\"\n",
    "Name : Pengsoo\n",
    "Phone : 010 - 1234 - 1111\n",
    "Species : Penguin\n",
    "Age : 10\n",
    "\"\"\""
   ]
  },
  {
   "cell_type": "code",
   "execution_count": 101,
   "id": "9cb75471",
   "metadata": {},
   "outputs": [
    {
     "data": {
      "text/plain": [
       "['010', '1234', '1111', '10']"
      ]
     },
     "execution_count": 101,
     "metadata": {},
     "output_type": "execute_result"
    }
   ],
   "source": [
    "re.findall(\"\\d+\", txt)"
   ]
  },
  {
   "cell_type": "code",
   "execution_count": 102,
   "id": "3c4954f0",
   "metadata": {},
   "outputs": [
    {
     "data": {
      "text/plain": [
       "[]"
      ]
     },
     "execution_count": 102,
     "metadata": {},
     "output_type": "execute_result"
    }
   ],
   "source": [
    "re.findall(\"\\d+\",\"txt\")"
   ]
  },
  {
   "cell_type": "markdown",
   "id": "4e070678",
   "metadata": {},
   "source": [
    "### - re.sub() 함수"
   ]
  },
  {
   "cell_type": "code",
   "execution_count": 103,
   "id": "46d51b16",
   "metadata": {},
   "outputs": [],
   "source": [
    "txt = \"Name : Pengsoo, Phone : 010 - 1234 - 1111, Age : 10\""
   ]
  },
  {
   "cell_type": "code",
   "execution_count": 104,
   "id": "f9913099",
   "metadata": {},
   "outputs": [
    {
     "data": {
      "text/plain": [
       "'Name   Pengsoo  Phone                      Age     '"
      ]
     },
     "execution_count": 104,
     "metadata": {},
     "output_type": "execute_result"
    }
   ],
   "source": [
    "re.sub(\"[^a-zA-Z]\", \" \", txt)"
   ]
  },
  {
   "cell_type": "code",
   "execution_count": 105,
   "id": "897da7c5",
   "metadata": {},
   "outputs": [
    {
     "data": {
      "text/plain": [
       "'NamePengsooPhoneAge'"
      ]
     },
     "execution_count": 105,
     "metadata": {},
     "output_type": "execute_result"
    }
   ],
   "source": [
    "re.sub(\"[^a-zA-Z]\", \"\", txt)"
   ]
  },
  {
   "cell_type": "code",
   "execution_count": 106,
   "id": "018b7751",
   "metadata": {},
   "outputs": [
    {
     "data": {
      "text/plain": [
       "'Name***Pengsoo**Phone**********************Age*****'"
      ]
     },
     "execution_count": 106,
     "metadata": {},
     "output_type": "execute_result"
    }
   ],
   "source": [
    "re.sub(\"[^a-zA-Z]\", \"*\", txt)"
   ]
  },
  {
   "cell_type": "markdown",
   "id": "1b4c6830",
   "metadata": {},
   "source": [
    "### - re.split() 함수"
   ]
  },
  {
   "cell_type": "code",
   "execution_count": 107,
   "id": "22d5326c",
   "metadata": {},
   "outputs": [],
   "source": [
    "txt = \"사과 딸기 수박 메론 바나나\""
   ]
  },
  {
   "cell_type": "code",
   "execution_count": 108,
   "id": "c3c953f9",
   "metadata": {},
   "outputs": [
    {
     "data": {
      "text/plain": [
       "['사과', '딸기', '수박', '메론', '바나나']"
      ]
     },
     "execution_count": 108,
     "metadata": {},
     "output_type": "execute_result"
    }
   ],
   "source": [
    "re.split(\" \", txt)"
   ]
  },
  {
   "cell_type": "code",
   "execution_count": 109,
   "id": "a982fde9",
   "metadata": {},
   "outputs": [],
   "source": [
    " txt = \"\"\"\n",
    "Name : Pengsoo\n",
    "Phone : 010 - 1234 - 1111\n",
    "Species : Penguin\n",
    "Age : 10\n",
    "\"\"\""
   ]
  },
  {
   "cell_type": "code",
   "execution_count": 110,
   "id": "20f968ad",
   "metadata": {},
   "outputs": [
    {
     "data": {
      "text/plain": [
       "['',\n",
       " 'Name : Pengsoo',\n",
       " 'Phone : 010 - 1234 - 1111',\n",
       " 'Species : Penguin',\n",
       " 'Age : 10',\n",
       " '']"
      ]
     },
     "execution_count": 110,
     "metadata": {},
     "output_type": "execute_result"
    }
   ],
   "source": [
    "re.split(\"\\n\", txt)"
   ]
  },
  {
   "cell_type": "markdown",
   "id": "36aba4ed",
   "metadata": {},
   "source": [
    "### grouping"
   ]
  },
  {
   "cell_type": "code",
   "execution_count": 111,
   "id": "a971e09b",
   "metadata": {},
   "outputs": [],
   "source": [
    "r = re.compile(\"(\\w+)@(.+)\")"
   ]
  },
  {
   "cell_type": "code",
   "execution_count": 115,
   "id": "d6b56d52",
   "metadata": {},
   "outputs": [
    {
     "name": "stdout",
     "output_type": "stream",
     "text": [
      "test\n",
      "abc.com\n",
      "test@abc.com\n"
     ]
    }
   ],
   "source": [
    "r_gp = r.search(\"test@abc.com\")\n",
    "\n",
    "print(r_gp.group(1))\n",
    "print(r_gp.group(2))\n",
    "print(r_gp.group(0))"
   ]
  },
  {
   "cell_type": "markdown",
   "id": "728fb86f",
   "metadata": {},
   "source": [
    "## 연습문제"
   ]
  },
  {
   "cell_type": "markdown",
   "id": "71bd624c",
   "metadata": {},
   "source": [
    "- 다음 text에서 휴대폰 번호와 전화 번호를 모두 추출하시오  "
   ]
  },
  {
   "cell_type": "code",
   "execution_count": 8,
   "id": "5753f837",
   "metadata": {},
   "outputs": [],
   "source": [
    "text  = \"제 휴대폰 번호는 010-1234-5678이고, 전화 번호는 02.987.6543입니다.\""
   ]
  },
  {
   "cell_type": "code",
   "execution_count": 9,
   "id": "73b02e5a",
   "metadata": {},
   "outputs": [
    {
     "data": {
      "text/plain": [
       "['010-1234-5678', '02.987.6543']"
      ]
     },
     "execution_count": 9,
     "metadata": {},
     "output_type": "execute_result"
    }
   ],
   "source": [
    "import re\n",
    "\n",
    "re.findall(\"\\d+\\W\\d+\\W\\d+\", text)"
   ]
  },
  {
   "cell_type": "markdown",
   "id": "50ddebba",
   "metadata": {},
   "source": [
    "- 다음 주소 중 올바른 웹페이지만(http, https) 추출하시오  "
   ]
  },
  {
   "cell_type": "code",
   "execution_count": 14,
   "id": "6e1712b0",
   "metadata": {},
   "outputs": [],
   "source": [
    " webs = \"\"\"\n",
    "    http://www.test.co.kr, \n",
    "    https://www.test1/com,  \n",
    "    https://www.test.com,  \n",
    "    ftp://www.test.com,  \n",
    "    http:://www.test.com,  \n",
    "    htp://www.test.com,  \n",
    "    http://google.com,  \n",
    "    https://www.homepage.com,  \n",
    "    \"\"\""
   ]
  },
  {
   "cell_type": "code",
   "execution_count": 15,
   "id": "f13583b5",
   "metadata": {},
   "outputs": [
    {
     "data": {
      "text/plain": [
       "['http://www.test.co.kr',\n",
       " 'https://www.test1',\n",
       " 'https://www.test.com',\n",
       " 'http://google.com',\n",
       " 'https://www.homepage.com']"
      ]
     },
     "execution_count": 15,
     "metadata": {},
     "output_type": "execute_result"
    }
   ],
   "source": [
    "re.findall(\"https?://[\\w.]+\\w\", webs)"
   ]
  },
  {
   "cell_type": "code",
   "execution_count": null,
   "id": "d9f4196e",
   "metadata": {},
   "outputs": [],
   "source": []
  }
 ],
 "metadata": {
  "kernelspec": {
   "display_name": "Python 3",
   "language": "python",
   "name": "python3"
  },
  "language_info": {
   "codemirror_mode": {
    "name": "ipython",
    "version": 3
   },
   "file_extension": ".py",
   "mimetype": "text/x-python",
   "name": "python",
   "nbconvert_exporter": "python",
   "pygments_lexer": "ipython3",
   "version": "3.8.8"
  }
 },
 "nbformat": 4,
 "nbformat_minor": 5
}
