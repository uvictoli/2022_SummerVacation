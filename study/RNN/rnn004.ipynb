{
  "nbformat": 4,
  "nbformat_minor": 0,
  "metadata": {
    "colab": {
      "name": "rnn004.ipynb",
      "provenance": [],
      "collapsed_sections": []
    },
    "kernelspec": {
      "name": "python3",
      "display_name": "Python 3"
    },
    "language_info": {
      "name": "python"
    },
    "accelerator": "GPU",
    "gpuClass": "standard"
  },
  "cells": [
    {
      "cell_type": "code",
      "execution_count": 2,
      "metadata": {
        "id": "3ET-EsWeyHPh"
      },
      "outputs": [],
      "source": [
        "text=\"\"\"경마장에 있는 말이 뛰고 있다. 그의 말이 법이다. 가는 말이 고와야 오는 말이 곱다.\"\"\""
      ]
    },
    {
      "cell_type": "code",
      "source": [
        "import tensorflow as tf\n",
        "from keras_preprocessing.text import Tokenizer\n",
        "\n",
        "t = Tokenizer()\n",
        "t.fit_on_texts([text])\n",
        "encoded = t.texts_to_sequences([text])[0]\n",
        "print(text)\n",
        "print(encoded) # 빈도 수에 따라 번호 부여(빈도가 잦을수록 작은 숫자)"
      ],
      "metadata": {
        "colab": {
          "base_uri": "https://localhost:8080/"
        },
        "id": "vCDS9l7V4NVK",
        "outputId": "9e243429-e008-4528-85c9-057ce2e9631e"
      },
      "execution_count": 3,
      "outputs": [
        {
          "output_type": "stream",
          "name": "stdout",
          "text": [
            "경마장에 있는 말이 뛰고 있다. 그의 말이 법이다. 가는 말이 고와야 오는 말이 곱다.\n",
            "[2, 3, 1, 4, 5, 6, 1, 7, 8, 1, 9, 10, 1, 11]\n"
          ]
        }
      ]
    },
    {
      "cell_type": "code",
      "source": [
        "vocab_size = len(t.word_index) + 1\n",
        "print('단어 집합의 크기 : %d' % vocab_size)"
      ],
      "metadata": {
        "colab": {
          "base_uri": "https://localhost:8080/"
        },
        "id": "3c3mKfMc4tGO",
        "outputId": "9bf18971-b226-44ba-bd1e-82d877e51454"
      },
      "execution_count": 4,
      "outputs": [
        {
          "output_type": "stream",
          "name": "stdout",
          "text": [
            "단어 집합의 크기 : 12\n"
          ]
        }
      ]
    },
    {
      "cell_type": "code",
      "source": [
        "print(t.word_index)"
      ],
      "metadata": {
        "colab": {
          "base_uri": "https://localhost:8080/"
        },
        "id": "W47nOF894_e3",
        "outputId": "0f842447-6991-4319-8ed6-5edc601c0ccb"
      },
      "execution_count": 5,
      "outputs": [
        {
          "output_type": "stream",
          "name": "stdout",
          "text": [
            "{'말이': 1, '경마장에': 2, '있는': 3, '뛰고': 4, '있다': 5, '그의': 6, '법이다': 7, '가는': 8, '고와야': 9, '오는': 10, '곱다': 11}\n"
          ]
        }
      ]
    },
    {
      "cell_type": "code",
      "source": [
        "from typing import Sequence\n",
        "sequences = list()\n",
        "for line in text.split('.') :\n",
        "  encoded = t.texts_to_sequences([line])[0]\n",
        "  for i in range(1, len(encoded)) :\n",
        "    sequence = encoded[:i+1]\n",
        "    sequences.append(sequence)\n",
        "\n",
        "print('훈련 데이터의 개수 :',len(sequences))"
      ],
      "metadata": {
        "colab": {
          "base_uri": "https://localhost:8080/"
        },
        "id": "-Irm9vuO5KUx",
        "outputId": "0201e350-98a5-4a20-9dc9-828daa422292"
      },
      "execution_count": 6,
      "outputs": [
        {
          "output_type": "stream",
          "name": "stdout",
          "text": [
            "훈련 데이터의 개수 : 11\n"
          ]
        }
      ]
    },
    {
      "cell_type": "code",
      "source": [
        "print(sequences)"
      ],
      "metadata": {
        "colab": {
          "base_uri": "https://localhost:8080/"
        },
        "id": "uREovHVY51qG",
        "outputId": "055e1d2e-7181-4ff4-c51d-8c1fa5ce2f39"
      },
      "execution_count": 7,
      "outputs": [
        {
          "output_type": "stream",
          "name": "stdout",
          "text": [
            "[[2, 3], [2, 3, 1], [2, 3, 1, 4], [2, 3, 1, 4, 5], [6, 1], [6, 1, 7], [8, 1], [8, 1, 9], [8, 1, 9, 10], [8, 1, 9, 10, 1], [8, 1, 9, 10, 1, 11]]\n"
          ]
        }
      ]
    },
    {
      "cell_type": "code",
      "source": [
        "print(max(len(I) for I in sequences))"
      ],
      "metadata": {
        "colab": {
          "base_uri": "https://localhost:8080/"
        },
        "id": "JiJpabS956U2",
        "outputId": "c1382cba-f055-410a-e885-3090e79203da"
      },
      "execution_count": 8,
      "outputs": [
        {
          "output_type": "stream",
          "name": "stdout",
          "text": [
            "6\n"
          ]
        }
      ]
    },
    {
      "cell_type": "code",
      "source": [
        "from keras.preprocessing.sequence import pad_sequences\n",
        "sequences = pad_sequences(sequences, maxlen=6, padding='pre')"
      ],
      "metadata": {
        "id": "h6B7XauM6AU1"
      },
      "execution_count": 9,
      "outputs": []
    },
    {
      "cell_type": "code",
      "source": [
        "print(sequences)"
      ],
      "metadata": {
        "colab": {
          "base_uri": "https://localhost:8080/"
        },
        "id": "_5MsKfsK7IMh",
        "outputId": "31fae056-fc8b-48e0-fd6d-88752c294410"
      },
      "execution_count": 10,
      "outputs": [
        {
          "output_type": "stream",
          "name": "stdout",
          "text": [
            "[[ 0  0  0  0  2  3]\n",
            " [ 0  0  0  2  3  1]\n",
            " [ 0  0  2  3  1  4]\n",
            " [ 0  2  3  1  4  5]\n",
            " [ 0  0  0  0  6  1]\n",
            " [ 0  0  0  6  1  7]\n",
            " [ 0  0  0  0  8  1]\n",
            " [ 0  0  0  8  1  9]\n",
            " [ 0  0  8  1  9 10]\n",
            " [ 0  8  1  9 10  1]\n",
            " [ 8  1  9 10  1 11]]\n"
          ]
        }
      ]
    },
    {
      "cell_type": "code",
      "source": [
        "# x, y로 시퀀스 분리\n",
        "import numpy as np\n",
        "sequences = np.array(sequences)\n",
        "X = sequences[:,:-1]\n",
        "y = sequences[:,-1]"
      ],
      "metadata": {
        "id": "DQVqMmf47PZD"
      },
      "execution_count": 11,
      "outputs": []
    },
    {
      "cell_type": "code",
      "source": [
        "print(X)"
      ],
      "metadata": {
        "colab": {
          "base_uri": "https://localhost:8080/"
        },
        "id": "8kjg8yae7gZz",
        "outputId": "f9484e41-b957-4657-e7b0-247981c9b68f"
      },
      "execution_count": 12,
      "outputs": [
        {
          "output_type": "stream",
          "name": "stdout",
          "text": [
            "[[ 0  0  0  0  2]\n",
            " [ 0  0  0  2  3]\n",
            " [ 0  0  2  3  1]\n",
            " [ 0  2  3  1  4]\n",
            " [ 0  0  0  0  6]\n",
            " [ 0  0  0  6  1]\n",
            " [ 0  0  0  0  8]\n",
            " [ 0  0  0  8  1]\n",
            " [ 0  0  8  1  9]\n",
            " [ 0  8  1  9 10]\n",
            " [ 8  1  9 10  1]]\n"
          ]
        }
      ]
    },
    {
      "cell_type": "code",
      "source": [
        "print(y)"
      ],
      "metadata": {
        "colab": {
          "base_uri": "https://localhost:8080/"
        },
        "id": "6hOvYnDa7jGl",
        "outputId": "340a2a2a-dd01-42ac-c9e9-278300c00f8e"
      },
      "execution_count": 13,
      "outputs": [
        {
          "output_type": "stream",
          "name": "stdout",
          "text": [
            "[ 3  1  4  5  1  7  1  9 10  1 11]\n"
          ]
        }
      ]
    },
    {
      "cell_type": "markdown",
      "source": [
        ""
      ],
      "metadata": {
        "id": "U-95ezqB7KiF"
      }
    },
    {
      "cell_type": "code",
      "source": [
        "from tensorflow.keras.utils import to_categorical\n",
        "y = to_categorical(y, num_classes=vocab_size)"
      ],
      "metadata": {
        "id": "2spA3gX27t1T"
      },
      "execution_count": 14,
      "outputs": []
    },
    {
      "cell_type": "code",
      "source": [
        "print(y)"
      ],
      "metadata": {
        "colab": {
          "base_uri": "https://localhost:8080/"
        },
        "id": "jy_qLSjz77QO",
        "outputId": "aa1c7416-17b2-4baf-ff89-af6fc9f28b6b"
      },
      "execution_count": 15,
      "outputs": [
        {
          "output_type": "stream",
          "name": "stdout",
          "text": [
            "[[0. 0. 0. 1. 0. 0. 0. 0. 0. 0. 0. 0.]\n",
            " [0. 1. 0. 0. 0. 0. 0. 0. 0. 0. 0. 0.]\n",
            " [0. 0. 0. 0. 1. 0. 0. 0. 0. 0. 0. 0.]\n",
            " [0. 0. 0. 0. 0. 1. 0. 0. 0. 0. 0. 0.]\n",
            " [0. 1. 0. 0. 0. 0. 0. 0. 0. 0. 0. 0.]\n",
            " [0. 0. 0. 0. 0. 0. 0. 1. 0. 0. 0. 0.]\n",
            " [0. 1. 0. 0. 0. 0. 0. 0. 0. 0. 0. 0.]\n",
            " [0. 0. 0. 0. 0. 0. 0. 0. 0. 1. 0. 0.]\n",
            " [0. 0. 0. 0. 0. 0. 0. 0. 0. 0. 1. 0.]\n",
            " [0. 1. 0. 0. 0. 0. 0. 0. 0. 0. 0. 0.]\n",
            " [0. 0. 0. 0. 0. 0. 0. 0. 0. 0. 0. 1.]]\n"
          ]
        }
      ]
    },
    {
      "cell_type": "code",
      "source": [
        "from tensorflow.keras.layers import Embedding, Dense, SimpleRNN\n",
        "from tensorflow.keras.models import Sequential\n",
        "\n",
        "model = Sequential()\n",
        "model.add(Embedding(vocab_size, 10, input_length=5))\n",
        "model.add(SimpleRNN(32))\n",
        "model.add(Dense(vocab_size, activation='softmax'))\n",
        "model.compile(loss='categorical_crossentropy', optimizer='adam', metrics=['accuracy'])\n",
        "model.fit(X, y, epochs=200)"
      ],
      "metadata": {
        "colab": {
          "base_uri": "https://localhost:8080/"
        },
        "id": "7HSeK8fI8AbU",
        "outputId": "2ddacdf1-c95b-414e-f2b5-351567318960"
      },
      "execution_count": 16,
      "outputs": [
        {
          "output_type": "stream",
          "name": "stdout",
          "text": [
            "Epoch 1/200\n",
            "1/1 [==============================] - 4s 4s/step - loss: 2.4458 - accuracy: 0.0000e+00\n",
            "Epoch 2/200\n",
            "1/1 [==============================] - 0s 11ms/step - loss: 2.4318 - accuracy: 0.1818\n",
            "Epoch 3/200\n",
            "1/1 [==============================] - 0s 13ms/step - loss: 2.4172 - accuracy: 0.2727\n",
            "Epoch 4/200\n",
            "1/1 [==============================] - 0s 11ms/step - loss: 2.4021 - accuracy: 0.3636\n",
            "Epoch 5/200\n",
            "1/1 [==============================] - 0s 12ms/step - loss: 2.3864 - accuracy: 0.3636\n",
            "Epoch 6/200\n",
            "1/1 [==============================] - 0s 12ms/step - loss: 2.3699 - accuracy: 0.3636\n",
            "Epoch 7/200\n",
            "1/1 [==============================] - 0s 13ms/step - loss: 2.3528 - accuracy: 0.4545\n",
            "Epoch 8/200\n",
            "1/1 [==============================] - 0s 14ms/step - loss: 2.3349 - accuracy: 0.4545\n",
            "Epoch 9/200\n",
            "1/1 [==============================] - 0s 17ms/step - loss: 2.3161 - accuracy: 0.4545\n",
            "Epoch 10/200\n",
            "1/1 [==============================] - 0s 11ms/step - loss: 2.2966 - accuracy: 0.4545\n",
            "Epoch 11/200\n",
            "1/1 [==============================] - 0s 12ms/step - loss: 2.2762 - accuracy: 0.4545\n",
            "Epoch 12/200\n",
            "1/1 [==============================] - 0s 12ms/step - loss: 2.2551 - accuracy: 0.3636\n",
            "Epoch 13/200\n",
            "1/1 [==============================] - 0s 15ms/step - loss: 2.2331 - accuracy: 0.3636\n",
            "Epoch 14/200\n",
            "1/1 [==============================] - 0s 16ms/step - loss: 2.2105 - accuracy: 0.3636\n",
            "Epoch 15/200\n",
            "1/1 [==============================] - 0s 14ms/step - loss: 2.1872 - accuracy: 0.3636\n",
            "Epoch 16/200\n",
            "1/1 [==============================] - 0s 12ms/step - loss: 2.1635 - accuracy: 0.3636\n",
            "Epoch 17/200\n",
            "1/1 [==============================] - 0s 14ms/step - loss: 2.1395 - accuracy: 0.3636\n",
            "Epoch 18/200\n",
            "1/1 [==============================] - 0s 13ms/step - loss: 2.1154 - accuracy: 0.3636\n",
            "Epoch 19/200\n",
            "1/1 [==============================] - 0s 14ms/step - loss: 2.0914 - accuracy: 0.3636\n",
            "Epoch 20/200\n",
            "1/1 [==============================] - 0s 12ms/step - loss: 2.0678 - accuracy: 0.3636\n",
            "Epoch 21/200\n",
            "1/1 [==============================] - 0s 13ms/step - loss: 2.0448 - accuracy: 0.3636\n",
            "Epoch 22/200\n",
            "1/1 [==============================] - 0s 12ms/step - loss: 2.0226 - accuracy: 0.3636\n",
            "Epoch 23/200\n",
            "1/1 [==============================] - 0s 12ms/step - loss: 2.0016 - accuracy: 0.3636\n",
            "Epoch 24/200\n",
            "1/1 [==============================] - 0s 13ms/step - loss: 1.9817 - accuracy: 0.3636\n",
            "Epoch 25/200\n",
            "1/1 [==============================] - 0s 16ms/step - loss: 1.9632 - accuracy: 0.3636\n",
            "Epoch 26/200\n",
            "1/1 [==============================] - 0s 12ms/step - loss: 1.9459 - accuracy: 0.3636\n",
            "Epoch 27/200\n",
            "1/1 [==============================] - 0s 15ms/step - loss: 1.9299 - accuracy: 0.3636\n",
            "Epoch 28/200\n",
            "1/1 [==============================] - 0s 14ms/step - loss: 1.9149 - accuracy: 0.3636\n",
            "Epoch 29/200\n",
            "1/1 [==============================] - 0s 13ms/step - loss: 1.9007 - accuracy: 0.3636\n",
            "Epoch 30/200\n",
            "1/1 [==============================] - 0s 13ms/step - loss: 1.8870 - accuracy: 0.3636\n",
            "Epoch 31/200\n",
            "1/1 [==============================] - 0s 13ms/step - loss: 1.8734 - accuracy: 0.3636\n",
            "Epoch 32/200\n",
            "1/1 [==============================] - 0s 13ms/step - loss: 1.8597 - accuracy: 0.3636\n",
            "Epoch 33/200\n",
            "1/1 [==============================] - 0s 21ms/step - loss: 1.8457 - accuracy: 0.3636\n",
            "Epoch 34/200\n",
            "1/1 [==============================] - 0s 19ms/step - loss: 1.8314 - accuracy: 0.3636\n",
            "Epoch 35/200\n",
            "1/1 [==============================] - 0s 13ms/step - loss: 1.8167 - accuracy: 0.3636\n",
            "Epoch 36/200\n",
            "1/1 [==============================] - 0s 12ms/step - loss: 1.8016 - accuracy: 0.3636\n",
            "Epoch 37/200\n",
            "1/1 [==============================] - 0s 15ms/step - loss: 1.7864 - accuracy: 0.3636\n",
            "Epoch 38/200\n",
            "1/1 [==============================] - 0s 11ms/step - loss: 1.7711 - accuracy: 0.3636\n",
            "Epoch 39/200\n",
            "1/1 [==============================] - 0s 12ms/step - loss: 1.7558 - accuracy: 0.3636\n",
            "Epoch 40/200\n",
            "1/1 [==============================] - 0s 16ms/step - loss: 1.7407 - accuracy: 0.3636\n",
            "Epoch 41/200\n",
            "1/1 [==============================] - 0s 13ms/step - loss: 1.7256 - accuracy: 0.3636\n",
            "Epoch 42/200\n",
            "1/1 [==============================] - 0s 15ms/step - loss: 1.7107 - accuracy: 0.4545\n",
            "Epoch 43/200\n",
            "1/1 [==============================] - 0s 14ms/step - loss: 1.6959 - accuracy: 0.4545\n",
            "Epoch 44/200\n",
            "1/1 [==============================] - 0s 14ms/step - loss: 1.6811 - accuracy: 0.4545\n",
            "Epoch 45/200\n",
            "1/1 [==============================] - 0s 12ms/step - loss: 1.6661 - accuracy: 0.4545\n",
            "Epoch 46/200\n",
            "1/1 [==============================] - 0s 15ms/step - loss: 1.6510 - accuracy: 0.4545\n",
            "Epoch 47/200\n",
            "1/1 [==============================] - 0s 12ms/step - loss: 1.6355 - accuracy: 0.4545\n",
            "Epoch 48/200\n",
            "1/1 [==============================] - 0s 11ms/step - loss: 1.6196 - accuracy: 0.5455\n",
            "Epoch 49/200\n",
            "1/1 [==============================] - 0s 15ms/step - loss: 1.6034 - accuracy: 0.5455\n",
            "Epoch 50/200\n",
            "1/1 [==============================] - 0s 11ms/step - loss: 1.5868 - accuracy: 0.5455\n",
            "Epoch 51/200\n",
            "1/1 [==============================] - 0s 13ms/step - loss: 1.5698 - accuracy: 0.5455\n",
            "Epoch 52/200\n",
            "1/1 [==============================] - 0s 12ms/step - loss: 1.5525 - accuracy: 0.5455\n",
            "Epoch 53/200\n",
            "1/1 [==============================] - 0s 15ms/step - loss: 1.5349 - accuracy: 0.5455\n",
            "Epoch 54/200\n",
            "1/1 [==============================] - 0s 13ms/step - loss: 1.5170 - accuracy: 0.5455\n",
            "Epoch 55/200\n",
            "1/1 [==============================] - 0s 14ms/step - loss: 1.4989 - accuracy: 0.5455\n",
            "Epoch 56/200\n",
            "1/1 [==============================] - 0s 14ms/step - loss: 1.4806 - accuracy: 0.5455\n",
            "Epoch 57/200\n",
            "1/1 [==============================] - 0s 14ms/step - loss: 1.4621 - accuracy: 0.5455\n",
            "Epoch 58/200\n",
            "1/1 [==============================] - 0s 12ms/step - loss: 1.4434 - accuracy: 0.5455\n",
            "Epoch 59/200\n",
            "1/1 [==============================] - 0s 16ms/step - loss: 1.4245 - accuracy: 0.5455\n",
            "Epoch 60/200\n",
            "1/1 [==============================] - 0s 18ms/step - loss: 1.4054 - accuracy: 0.5455\n",
            "Epoch 61/200\n",
            "1/1 [==============================] - 0s 15ms/step - loss: 1.3862 - accuracy: 0.5455\n",
            "Epoch 62/200\n",
            "1/1 [==============================] - 0s 12ms/step - loss: 1.3668 - accuracy: 0.5455\n",
            "Epoch 63/200\n",
            "1/1 [==============================] - 0s 14ms/step - loss: 1.3473 - accuracy: 0.5455\n",
            "Epoch 64/200\n",
            "1/1 [==============================] - 0s 13ms/step - loss: 1.3279 - accuracy: 0.5455\n",
            "Epoch 65/200\n",
            "1/1 [==============================] - 0s 13ms/step - loss: 1.3084 - accuracy: 0.6364\n",
            "Epoch 66/200\n",
            "1/1 [==============================] - 0s 16ms/step - loss: 1.2890 - accuracy: 0.6364\n",
            "Epoch 67/200\n",
            "1/1 [==============================] - 0s 13ms/step - loss: 1.2697 - accuracy: 0.6364\n",
            "Epoch 68/200\n",
            "1/1 [==============================] - 0s 12ms/step - loss: 1.2506 - accuracy: 0.6364\n",
            "Epoch 69/200\n",
            "1/1 [==============================] - 0s 13ms/step - loss: 1.2317 - accuracy: 0.6364\n",
            "Epoch 70/200\n",
            "1/1 [==============================] - 0s 13ms/step - loss: 1.2129 - accuracy: 0.6364\n",
            "Epoch 71/200\n",
            "1/1 [==============================] - 0s 13ms/step - loss: 1.1943 - accuracy: 0.6364\n",
            "Epoch 72/200\n",
            "1/1 [==============================] - 0s 18ms/step - loss: 1.1760 - accuracy: 0.6364\n",
            "Epoch 73/200\n",
            "1/1 [==============================] - 0s 16ms/step - loss: 1.1579 - accuracy: 0.6364\n",
            "Epoch 74/200\n",
            "1/1 [==============================] - 0s 11ms/step - loss: 1.1400 - accuracy: 0.6364\n",
            "Epoch 75/200\n",
            "1/1 [==============================] - 0s 13ms/step - loss: 1.1223 - accuracy: 0.6364\n",
            "Epoch 76/200\n",
            "1/1 [==============================] - 0s 12ms/step - loss: 1.1048 - accuracy: 0.7273\n",
            "Epoch 77/200\n",
            "1/1 [==============================] - 0s 13ms/step - loss: 1.0876 - accuracy: 0.7273\n",
            "Epoch 78/200\n",
            "1/1 [==============================] - 0s 13ms/step - loss: 1.0706 - accuracy: 0.7273\n",
            "Epoch 79/200\n",
            "1/1 [==============================] - 0s 11ms/step - loss: 1.0539 - accuracy: 0.7273\n",
            "Epoch 80/200\n",
            "1/1 [==============================] - 0s 11ms/step - loss: 1.0374 - accuracy: 0.7273\n",
            "Epoch 81/200\n",
            "1/1 [==============================] - 0s 12ms/step - loss: 1.0212 - accuracy: 0.7273\n",
            "Epoch 82/200\n",
            "1/1 [==============================] - 0s 11ms/step - loss: 1.0053 - accuracy: 0.7273\n",
            "Epoch 83/200\n",
            "1/1 [==============================] - 0s 13ms/step - loss: 0.9896 - accuracy: 0.7273\n",
            "Epoch 84/200\n",
            "1/1 [==============================] - 0s 11ms/step - loss: 0.9741 - accuracy: 0.7273\n",
            "Epoch 85/200\n",
            "1/1 [==============================] - 0s 15ms/step - loss: 0.9590 - accuracy: 0.7273\n",
            "Epoch 86/200\n",
            "1/1 [==============================] - 0s 13ms/step - loss: 0.9441 - accuracy: 0.7273\n",
            "Epoch 87/200\n",
            "1/1 [==============================] - 0s 13ms/step - loss: 0.9294 - accuracy: 0.7273\n",
            "Epoch 88/200\n",
            "1/1 [==============================] - 0s 13ms/step - loss: 0.9150 - accuracy: 0.7273\n",
            "Epoch 89/200\n",
            "1/1 [==============================] - 0s 13ms/step - loss: 0.9009 - accuracy: 0.7273\n",
            "Epoch 90/200\n",
            "1/1 [==============================] - 0s 15ms/step - loss: 0.8870 - accuracy: 0.7273\n",
            "Epoch 91/200\n",
            "1/1 [==============================] - 0s 11ms/step - loss: 0.8734 - accuracy: 0.7273\n",
            "Epoch 92/200\n",
            "1/1 [==============================] - 0s 11ms/step - loss: 0.8600 - accuracy: 0.7273\n",
            "Epoch 93/200\n",
            "1/1 [==============================] - 0s 17ms/step - loss: 0.8468 - accuracy: 0.7273\n",
            "Epoch 94/200\n",
            "1/1 [==============================] - 0s 14ms/step - loss: 0.8338 - accuracy: 0.7273\n",
            "Epoch 95/200\n",
            "1/1 [==============================] - 0s 16ms/step - loss: 0.8211 - accuracy: 0.7273\n",
            "Epoch 96/200\n",
            "1/1 [==============================] - 0s 17ms/step - loss: 0.8085 - accuracy: 0.7273\n",
            "Epoch 97/200\n",
            "1/1 [==============================] - 0s 14ms/step - loss: 0.7961 - accuracy: 0.7273\n",
            "Epoch 98/200\n",
            "1/1 [==============================] - 0s 13ms/step - loss: 0.7839 - accuracy: 0.7273\n",
            "Epoch 99/200\n",
            "1/1 [==============================] - 0s 12ms/step - loss: 0.7718 - accuracy: 0.7273\n",
            "Epoch 100/200\n",
            "1/1 [==============================] - 0s 15ms/step - loss: 0.7599 - accuracy: 0.7273\n",
            "Epoch 101/200\n",
            "1/1 [==============================] - 0s 12ms/step - loss: 0.7481 - accuracy: 0.7273\n",
            "Epoch 102/200\n",
            "1/1 [==============================] - 0s 16ms/step - loss: 0.7364 - accuracy: 0.7273\n",
            "Epoch 103/200\n",
            "1/1 [==============================] - 0s 12ms/step - loss: 0.7249 - accuracy: 0.7273\n",
            "Epoch 104/200\n",
            "1/1 [==============================] - 0s 14ms/step - loss: 0.7136 - accuracy: 0.8182\n",
            "Epoch 105/200\n",
            "1/1 [==============================] - 0s 15ms/step - loss: 0.7023 - accuracy: 0.8182\n",
            "Epoch 106/200\n",
            "1/1 [==============================] - 0s 13ms/step - loss: 0.6912 - accuracy: 0.8182\n",
            "Epoch 107/200\n",
            "1/1 [==============================] - 0s 13ms/step - loss: 0.6801 - accuracy: 0.8182\n",
            "Epoch 108/200\n",
            "1/1 [==============================] - 0s 16ms/step - loss: 0.6693 - accuracy: 0.8182\n",
            "Epoch 109/200\n",
            "1/1 [==============================] - 0s 15ms/step - loss: 0.6585 - accuracy: 0.8182\n",
            "Epoch 110/200\n",
            "1/1 [==============================] - 0s 20ms/step - loss: 0.6478 - accuracy: 0.8182\n",
            "Epoch 111/200\n",
            "1/1 [==============================] - 0s 17ms/step - loss: 0.6373 - accuracy: 0.8182\n",
            "Epoch 112/200\n",
            "1/1 [==============================] - 0s 14ms/step - loss: 0.6269 - accuracy: 0.8182\n",
            "Epoch 113/200\n",
            "1/1 [==============================] - 0s 15ms/step - loss: 0.6166 - accuracy: 0.8182\n",
            "Epoch 114/200\n",
            "1/1 [==============================] - 0s 16ms/step - loss: 0.6064 - accuracy: 0.8182\n",
            "Epoch 115/200\n",
            "1/1 [==============================] - 0s 13ms/step - loss: 0.5963 - accuracy: 0.8182\n",
            "Epoch 116/200\n",
            "1/1 [==============================] - 0s 16ms/step - loss: 0.5864 - accuracy: 0.9091\n",
            "Epoch 117/200\n",
            "1/1 [==============================] - 0s 11ms/step - loss: 0.5766 - accuracy: 0.9091\n",
            "Epoch 118/200\n",
            "1/1 [==============================] - 0s 11ms/step - loss: 0.5669 - accuracy: 0.9091\n",
            "Epoch 119/200\n",
            "1/1 [==============================] - 0s 18ms/step - loss: 0.5573 - accuracy: 0.9091\n",
            "Epoch 120/200\n",
            "1/1 [==============================] - 0s 10ms/step - loss: 0.5479 - accuracy: 0.9091\n",
            "Epoch 121/200\n",
            "1/1 [==============================] - 0s 13ms/step - loss: 0.5386 - accuracy: 0.9091\n",
            "Epoch 122/200\n",
            "1/1 [==============================] - 0s 12ms/step - loss: 0.5294 - accuracy: 0.9091\n",
            "Epoch 123/200\n",
            "1/1 [==============================] - 0s 15ms/step - loss: 0.5203 - accuracy: 0.9091\n",
            "Epoch 124/200\n",
            "1/1 [==============================] - 0s 11ms/step - loss: 0.5113 - accuracy: 0.9091\n",
            "Epoch 125/200\n",
            "1/1 [==============================] - 0s 16ms/step - loss: 0.5025 - accuracy: 0.9091\n",
            "Epoch 126/200\n",
            "1/1 [==============================] - 0s 11ms/step - loss: 0.4938 - accuracy: 0.9091\n",
            "Epoch 127/200\n",
            "1/1 [==============================] - 0s 14ms/step - loss: 0.4852 - accuracy: 0.9091\n",
            "Epoch 128/200\n",
            "1/1 [==============================] - 0s 14ms/step - loss: 0.4767 - accuracy: 0.9091\n",
            "Epoch 129/200\n",
            "1/1 [==============================] - 0s 13ms/step - loss: 0.4684 - accuracy: 0.9091\n",
            "Epoch 130/200\n",
            "1/1 [==============================] - 0s 16ms/step - loss: 0.4601 - accuracy: 0.9091\n",
            "Epoch 131/200\n",
            "1/1 [==============================] - 0s 12ms/step - loss: 0.4520 - accuracy: 0.9091\n",
            "Epoch 132/200\n",
            "1/1 [==============================] - 0s 11ms/step - loss: 0.4440 - accuracy: 0.9091\n",
            "Epoch 133/200\n",
            "1/1 [==============================] - 0s 13ms/step - loss: 0.4361 - accuracy: 0.9091\n",
            "Epoch 134/200\n",
            "1/1 [==============================] - 0s 17ms/step - loss: 0.4284 - accuracy: 0.9091\n",
            "Epoch 135/200\n",
            "1/1 [==============================] - 0s 17ms/step - loss: 0.4207 - accuracy: 0.9091\n",
            "Epoch 136/200\n",
            "1/1 [==============================] - 0s 12ms/step - loss: 0.4131 - accuracy: 0.9091\n",
            "Epoch 137/200\n",
            "1/1 [==============================] - 0s 14ms/step - loss: 0.4057 - accuracy: 0.9091\n",
            "Epoch 138/200\n",
            "1/1 [==============================] - 0s 13ms/step - loss: 0.3984 - accuracy: 0.9091\n",
            "Epoch 139/200\n",
            "1/1 [==============================] - 0s 13ms/step - loss: 0.3911 - accuracy: 0.9091\n",
            "Epoch 140/200\n",
            "1/1 [==============================] - 0s 12ms/step - loss: 0.3840 - accuracy: 0.9091\n",
            "Epoch 141/200\n",
            "1/1 [==============================] - 0s 14ms/step - loss: 0.3770 - accuracy: 0.9091\n",
            "Epoch 142/200\n",
            "1/1 [==============================] - 0s 13ms/step - loss: 0.3701 - accuracy: 0.9091\n",
            "Epoch 143/200\n",
            "1/1 [==============================] - 0s 13ms/step - loss: 0.3633 - accuracy: 0.9091\n",
            "Epoch 144/200\n",
            "1/1 [==============================] - 0s 14ms/step - loss: 0.3566 - accuracy: 0.9091\n",
            "Epoch 145/200\n",
            "1/1 [==============================] - 0s 15ms/step - loss: 0.3499 - accuracy: 0.9091\n",
            "Epoch 146/200\n",
            "1/1 [==============================] - 0s 13ms/step - loss: 0.3434 - accuracy: 0.9091\n",
            "Epoch 147/200\n",
            "1/1 [==============================] - 0s 19ms/step - loss: 0.3370 - accuracy: 0.9091\n",
            "Epoch 148/200\n",
            "1/1 [==============================] - 0s 13ms/step - loss: 0.3307 - accuracy: 0.9091\n",
            "Epoch 149/200\n",
            "1/1 [==============================] - 0s 12ms/step - loss: 0.3245 - accuracy: 0.9091\n",
            "Epoch 150/200\n",
            "1/1 [==============================] - 0s 14ms/step - loss: 0.3184 - accuracy: 0.9091\n",
            "Epoch 151/200\n",
            "1/1 [==============================] - 0s 16ms/step - loss: 0.3123 - accuracy: 0.9091\n",
            "Epoch 152/200\n",
            "1/1 [==============================] - 0s 12ms/step - loss: 0.3064 - accuracy: 0.9091\n",
            "Epoch 153/200\n",
            "1/1 [==============================] - 0s 14ms/step - loss: 0.3006 - accuracy: 0.9091\n",
            "Epoch 154/200\n",
            "1/1 [==============================] - 0s 13ms/step - loss: 0.2948 - accuracy: 0.9091\n",
            "Epoch 155/200\n",
            "1/1 [==============================] - 0s 14ms/step - loss: 0.2892 - accuracy: 0.9091\n",
            "Epoch 156/200\n",
            "1/1 [==============================] - 0s 15ms/step - loss: 0.2836 - accuracy: 0.9091\n",
            "Epoch 157/200\n",
            "1/1 [==============================] - 0s 14ms/step - loss: 0.2781 - accuracy: 0.9091\n",
            "Epoch 158/200\n",
            "1/1 [==============================] - 0s 19ms/step - loss: 0.2728 - accuracy: 0.9091\n",
            "Epoch 159/200\n",
            "1/1 [==============================] - 0s 16ms/step - loss: 0.2675 - accuracy: 0.9091\n",
            "Epoch 160/200\n",
            "1/1 [==============================] - 0s 13ms/step - loss: 0.2623 - accuracy: 0.9091\n",
            "Epoch 161/200\n",
            "1/1 [==============================] - 0s 14ms/step - loss: 0.2572 - accuracy: 0.9091\n",
            "Epoch 162/200\n",
            "1/1 [==============================] - 0s 14ms/step - loss: 0.2522 - accuracy: 1.0000\n",
            "Epoch 163/200\n",
            "1/1 [==============================] - 0s 17ms/step - loss: 0.2473 - accuracy: 1.0000\n",
            "Epoch 164/200\n",
            "1/1 [==============================] - 0s 14ms/step - loss: 0.2424 - accuracy: 1.0000\n",
            "Epoch 165/200\n",
            "1/1 [==============================] - 0s 12ms/step - loss: 0.2377 - accuracy: 1.0000\n",
            "Epoch 166/200\n",
            "1/1 [==============================] - 0s 13ms/step - loss: 0.2330 - accuracy: 1.0000\n",
            "Epoch 167/200\n",
            "1/1 [==============================] - 0s 14ms/step - loss: 0.2284 - accuracy: 1.0000\n",
            "Epoch 168/200\n",
            "1/1 [==============================] - 0s 13ms/step - loss: 0.2240 - accuracy: 1.0000\n",
            "Epoch 169/200\n",
            "1/1 [==============================] - 0s 13ms/step - loss: 0.2196 - accuracy: 1.0000\n",
            "Epoch 170/200\n",
            "1/1 [==============================] - 0s 16ms/step - loss: 0.2153 - accuracy: 1.0000\n",
            "Epoch 171/200\n",
            "1/1 [==============================] - 0s 12ms/step - loss: 0.2110 - accuracy: 1.0000\n",
            "Epoch 172/200\n",
            "1/1 [==============================] - 0s 13ms/step - loss: 0.2069 - accuracy: 1.0000\n",
            "Epoch 173/200\n",
            "1/1 [==============================] - 0s 13ms/step - loss: 0.2028 - accuracy: 1.0000\n",
            "Epoch 174/200\n",
            "1/1 [==============================] - 0s 15ms/step - loss: 0.1988 - accuracy: 1.0000\n",
            "Epoch 175/200\n",
            "1/1 [==============================] - 0s 14ms/step - loss: 0.1950 - accuracy: 1.0000\n",
            "Epoch 176/200\n",
            "1/1 [==============================] - 0s 15ms/step - loss: 0.1911 - accuracy: 1.0000\n",
            "Epoch 177/200\n",
            "1/1 [==============================] - 0s 14ms/step - loss: 0.1874 - accuracy: 1.0000\n",
            "Epoch 178/200\n",
            "1/1 [==============================] - 0s 13ms/step - loss: 0.1837 - accuracy: 1.0000\n",
            "Epoch 179/200\n",
            "1/1 [==============================] - 0s 12ms/step - loss: 0.1802 - accuracy: 1.0000\n",
            "Epoch 180/200\n",
            "1/1 [==============================] - 0s 12ms/step - loss: 0.1767 - accuracy: 1.0000\n",
            "Epoch 181/200\n",
            "1/1 [==============================] - 0s 11ms/step - loss: 0.1732 - accuracy: 1.0000\n",
            "Epoch 182/200\n",
            "1/1 [==============================] - 0s 13ms/step - loss: 0.1699 - accuracy: 1.0000\n",
            "Epoch 183/200\n",
            "1/1 [==============================] - 0s 15ms/step - loss: 0.1666 - accuracy: 1.0000\n",
            "Epoch 184/200\n",
            "1/1 [==============================] - 0s 14ms/step - loss: 0.1634 - accuracy: 1.0000\n",
            "Epoch 185/200\n",
            "1/1 [==============================] - 0s 14ms/step - loss: 0.1602 - accuracy: 1.0000\n",
            "Epoch 186/200\n",
            "1/1 [==============================] - 0s 16ms/step - loss: 0.1572 - accuracy: 1.0000\n",
            "Epoch 187/200\n",
            "1/1 [==============================] - 0s 16ms/step - loss: 0.1542 - accuracy: 1.0000\n",
            "Epoch 188/200\n",
            "1/1 [==============================] - 0s 12ms/step - loss: 0.1512 - accuracy: 1.0000\n",
            "Epoch 189/200\n",
            "1/1 [==============================] - 0s 16ms/step - loss: 0.1484 - accuracy: 1.0000\n",
            "Epoch 190/200\n",
            "1/1 [==============================] - 0s 12ms/step - loss: 0.1456 - accuracy: 1.0000\n",
            "Epoch 191/200\n",
            "1/1 [==============================] - 0s 12ms/step - loss: 0.1428 - accuracy: 1.0000\n",
            "Epoch 192/200\n",
            "1/1 [==============================] - 0s 14ms/step - loss: 0.1401 - accuracy: 1.0000\n",
            "Epoch 193/200\n",
            "1/1 [==============================] - 0s 15ms/step - loss: 0.1375 - accuracy: 1.0000\n",
            "Epoch 194/200\n",
            "1/1 [==============================] - 0s 13ms/step - loss: 0.1350 - accuracy: 1.0000\n",
            "Epoch 195/200\n",
            "1/1 [==============================] - 0s 13ms/step - loss: 0.1325 - accuracy: 1.0000\n",
            "Epoch 196/200\n",
            "1/1 [==============================] - 0s 16ms/step - loss: 0.1300 - accuracy: 1.0000\n",
            "Epoch 197/200\n",
            "1/1 [==============================] - 0s 18ms/step - loss: 0.1276 - accuracy: 1.0000\n",
            "Epoch 198/200\n",
            "1/1 [==============================] - 0s 15ms/step - loss: 0.1253 - accuracy: 1.0000\n",
            "Epoch 199/200\n",
            "1/1 [==============================] - 0s 14ms/step - loss: 0.1230 - accuracy: 1.0000\n",
            "Epoch 200/200\n",
            "1/1 [==============================] - 0s 14ms/step - loss: 0.1208 - accuracy: 1.0000\n"
          ]
        },
        {
          "output_type": "execute_result",
          "data": {
            "text/plain": [
              "<keras.callbacks.History at 0x7f5b2016d510>"
            ]
          },
          "metadata": {},
          "execution_count": 16
        }
      ]
    },
    {
      "cell_type": "code",
      "source": [
        "def sentence_generation(model, t, current_word, n) :\n",
        "  init_word = current_word\n",
        "  sentence = ''\n",
        "  for _ in range(n) :\n",
        "    encoded = t.texts_to_sequences([current_word])[0]\n",
        "    encoded = pad_sequences([encoded], maxlen=5, padding='pre')\n",
        "    #result = model.predict_classes(encoded, verbose=0) #tf2.6 deprecated\n",
        "    y_prob = model.predict(encoded, verbose=0)\n",
        "    result = y_prob.argmax(axis=-1)\n",
        "    for word, index in t.word_index.items() :\n",
        "      if index == result :\n",
        "        break\n",
        "\n",
        "    current_word = current_word + ' ' + word\n",
        "    sentence = sentence + ' ' + word\n",
        "  sentence = init_word + sentence\n",
        "  return sentence"
      ],
      "metadata": {
        "id": "goaML6dE868y"
      },
      "execution_count": 17,
      "outputs": []
    },
    {
      "cell_type": "code",
      "source": [
        "print(sentence_generation(model, t, '경마장에', 4))"
      ],
      "metadata": {
        "colab": {
          "base_uri": "https://localhost:8080/"
        },
        "id": "MhTIU-h-_clK",
        "outputId": "e946bc47-5408-42df-d498-6e00ef026570"
      },
      "execution_count": 18,
      "outputs": [
        {
          "output_type": "stream",
          "name": "stdout",
          "text": [
            "경마장에 있는 말이 뛰고 있다\n"
          ]
        }
      ]
    },
    {
      "cell_type": "code",
      "source": [
        "print(sentence_generation(model, t, '그의', 2))"
      ],
      "metadata": {
        "colab": {
          "base_uri": "https://localhost:8080/"
        },
        "id": "ZMPCdCk0_nm0",
        "outputId": "7a40eb46-bdd5-4830-c8dc-feb1a0a4597e"
      },
      "execution_count": 19,
      "outputs": [
        {
          "output_type": "stream",
          "name": "stdout",
          "text": [
            "그의 말이 법이다\n"
          ]
        }
      ]
    },
    {
      "cell_type": "code",
      "source": [
        "print(sentence_generation(model, t, '가는', 5))"
      ],
      "metadata": {
        "colab": {
          "base_uri": "https://localhost:8080/"
        },
        "id": "0EXndnYF_x0M",
        "outputId": "955c8e2e-c50d-48c7-b9b1-499e9dc25083"
      },
      "execution_count": 20,
      "outputs": [
        {
          "output_type": "stream",
          "name": "stdout",
          "text": [
            "가는 말이 고와야 오는 말이 곱다\n"
          ]
        }
      ]
    },
    {
      "cell_type": "code",
      "source": [
        "print(sentence_generation(model, t, '경마장에', 7))"
      ],
      "metadata": {
        "colab": {
          "base_uri": "https://localhost:8080/"
        },
        "id": "ym3N4B3g_9Hh",
        "outputId": "431a15fa-e35e-4fd9-a73f-7c108e177f05"
      },
      "execution_count": 21,
      "outputs": [
        {
          "output_type": "stream",
          "name": "stdout",
          "text": [
            "경마장에 있는 말이 뛰고 있다 있다 곱다 있다\n"
          ]
        }
      ]
    }
  ]
}