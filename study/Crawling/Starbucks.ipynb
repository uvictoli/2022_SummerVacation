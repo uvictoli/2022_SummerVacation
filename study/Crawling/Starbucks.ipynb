{
 "cells": [
  {
   "cell_type": "code",
   "execution_count": 1,
   "id": "861e2c33",
   "metadata": {},
   "outputs": [],
   "source": [
    "from selenium import webdriver\n",
    "from bs4 import BeautifulSoup\n",
    "from pprint import pprint"
   ]
  },
  {
   "cell_type": "code",
   "execution_count": 2,
   "id": "1edea4fe",
   "metadata": {},
   "outputs": [],
   "source": [
    "browser = webdriver.Chrome()"
   ]
  },
  {
   "cell_type": "code",
   "execution_count": 3,
   "id": "7268961a",
   "metadata": {},
   "outputs": [],
   "source": [
    "browser.get(\"https://www.starbucks.co.kr/menu/drink_list.do\")"
   ]
  },
  {
   "cell_type": "code",
   "execution_count": 4,
   "id": "4263001e",
   "metadata": {},
   "outputs": [],
   "source": [
    "html = browser.page_source\n",
    "soup = BeautifulSoup(html, 'html.parser')\n",
    "products = soup.select('.product_list dd a')\n",
    "\n",
    "#pprint(products)"
   ]
  },
  {
   "cell_type": "code",
   "execution_count": 5,
   "id": "4c622499",
   "metadata": {},
   "outputs": [],
   "source": [
    "# 코드, 제품 이름\n",
    "prod_cd = [[product['prod'], product.find('img')['alt']] for product in products]\n",
    "\n",
    "#pprint(prod_cd)"
   ]
  },
  {
   "cell_type": "code",
   "execution_count": 6,
   "id": "f7237cba",
   "metadata": {},
   "outputs": [],
   "source": [
    "import time\n",
    "\n",
    "result = []\n",
    "\n",
    "for prod in prod_cd:\n",
    "    container = dict()\n",
    "    cd = prod[0]\n",
    "    name = prod[1]\n",
    "    \n",
    "    browser.get(f\"https://www.starbucks.co.kr/menu/drink_view.do?product_cd={cd}\")\n",
    "    html = browser.page_source\n",
    "    soup = BeautifulSoup(html, 'html.parser')\n",
    "    \n",
    "    # 용량\n",
    "    volume = soup.select_one('.product_info_head #product_info01').get_text()\n",
    "    \n",
    "    # 제품 영양 정보\n",
    "    cateL = soup.select_one('.smap .cate').get_text()\n",
    "    kcal = soup.select_one('.product_info_content .kcal dd').get_text()\n",
    "    sat_FAT = soup.select_one('.product_info_content .sat_FAT dd').get_text()    \n",
    "    protein = soup.select_one('.product_info_content .protein dd').get_text()    \n",
    "    fat = soup.select_one('.product_info_content .fat dd').get_text()    \n",
    "    trans_FAT = soup.select_one('.product_info_content .trans_FAT dd').get_text()    \n",
    "    sodium = soup.select_one('.product_info_content .sodium dd').get_text()    \n",
    "    sugars = soup.select_one('.product_info_content .sugars dd').get_text()    \n",
    "    caffeine = soup.select_one('.product_info_content .caffeine dd').get_text()    \n",
    "    cholesterol = soup.select_one('.product_info_content .cholesterol dd').get_text()    \n",
    "\n",
    "    container['분류'] = cateL\n",
    "    container['1회 제공량'] = volume\n",
    "    container['메뉴'] = name\n",
    "    container['칼로리(kcal)'] = kcal\n",
    "    container['포화지방(g)'] = sat_FAT\n",
    "    container['단백질(g)'] = protein\n",
    "    container['지방(g)'] = fat\n",
    "    container['트랜스지방(g)'] = trans_FAT\n",
    "    container['나트륨(mg)'] = sodium\n",
    "    container['당류(g)'] = sugars\n",
    "    container['카페인(mg)'] = caffeine\n",
    "    #container['cholesterol'] = cholesterol\n",
    "    \n",
    "    result.append(container)\n",
    "    \n",
    "    time.sleep(3)"
   ]
  },
  {
   "cell_type": "code",
   "execution_count": 7,
   "id": "23913682",
   "metadata": {},
   "outputs": [],
   "source": [
    "#pprint(result)"
   ]
  },
  {
   "cell_type": "code",
   "execution_count": 8,
   "id": "c9a2126e",
   "metadata": {},
   "outputs": [],
   "source": [
    "import pandas as pd\n",
    "\n",
    "df = pd.DataFrame(result)\n",
    "df.to_csv('./starbucks.csv', index = False, encoding=\"utf-8-sig\")\n",
    "\n",
    "#df"
   ]
  },
  {
   "cell_type": "code",
   "execution_count": 9,
   "id": "9ce5428b",
   "metadata": {},
   "outputs": [],
   "source": [
    "browser.quit()"
   ]
  }
 ],
 "metadata": {
  "kernelspec": {
   "display_name": "Python 3",
   "language": "python",
   "name": "python3"
  },
  "language_info": {
   "codemirror_mode": {
    "name": "ipython",
    "version": 3
   },
   "file_extension": ".py",
   "mimetype": "text/x-python",
   "name": "python",
   "nbconvert_exporter": "python",
   "pygments_lexer": "ipython3",
   "version": "3.8.8"
  }
 },
 "nbformat": 4,
 "nbformat_minor": 5
}
