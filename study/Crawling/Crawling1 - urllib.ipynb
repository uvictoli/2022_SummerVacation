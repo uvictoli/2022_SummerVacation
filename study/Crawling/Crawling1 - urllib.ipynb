{
 "cells": [
  {
   "cell_type": "markdown",
   "id": "06aece08",
   "metadata": {},
   "source": [
    "### 파이썬 버전 확인 "
   ]
  },
  {
   "cell_type": "code",
   "execution_count": 1,
   "id": "5a1cdc51",
   "metadata": {},
   "outputs": [
    {
     "name": "stdout",
     "output_type": "stream",
     "text": [
      "3.8.8\n"
     ]
    }
   ],
   "source": [
    "from platform import python_version\n",
    "\n",
    "print(python_version())"
   ]
  },
  {
   "cell_type": "markdown",
   "id": "429b6bb4",
   "metadata": {},
   "source": [
    "## 크롤링 준비\n",
    "- 준비할 것들\n",
    "    - Chrome 개발자 도구 사용법\n",
    "    - python 기본문법\n",
    "    - jupyter notebook 기본 사용법\n",
    "    - api 사용을 위한 key 발급\n",
    "    - 크롤링 유의사항\n",
    "    \n",
    "#### 1. Chrome 개발자 도구\n",
    "    - F12 또는 'option + command + i'을 누르면 나타남\n",
    "    - 개발자 도구를 통해서 네트워크 통신과 html 정보를 알아낼 수 있어야 함\n",
    "    \n",
    "#### 2. python 기본 문법\n",
    "    - 반복문, 조건문 등의 기본적 이해\n",
    "    - python 자료구조에 대한 기본적인 이해\n",
    "    - python 라이브러리 사용법\n",
    "    \n",
    "#### 3. jupyter notebook 기본 사용법\n",
    "    - 실행하기, cell 추가하기 등 기본 단축키\n",
    "    - 라이브러리 설치법\n",
    "    \n",
    "#### 4. api 사용을 위한 key 발급\n",
    "    - api를 사용하기 위해서 회원가입을 하고 인증키를 발급하는 시간이 걸림\n",
    "    - 따라서 M4를 수강하기 전 미리 api를 사용할 사이트에서 key를 준비해야 함\n",
    "    \n",
    "#### 5. 크롤링 유의사항\n",
    "    - robots.txt 확인하기\n",
    "    - 서버에 부하 주지 않기\n",
    "    - 크롤링 데이터 사용 유의\n",
    "    \n",
    "       "
   ]
  },
  {
   "cell_type": "markdown",
   "id": "2c237899",
   "metadata": {},
   "source": [
    "#### +) robots.txt란?\n",
    "    - 개발한 웹 페이지에서 로봇들이 크롤링을 할 수 있는 접근 권한을 제한하는 문서\n",
    "    - 물리적으로 제한하지는 않지만 권고하는 것으로 로봇이 파일을 읽고 접근하는 것을 중지하길 바라는 것에서 설정함\n",
    "    - 접근하지 못하도록 써놓더라도 다른 사람들이 접근할 수는 있음\n",
    "    - 위치는 항상 사이트의 루트 디렉토리에 위치한다. ex) www.naver.com/robots.txt\n",
    "      \n",
    "     \n",
    "<br>\n",
    "\n",
    "> User-agent: * <br>  \n",
    "> Allow: /\n",
    "\n",
    "    모든 로봇들이 모든 페이지에 접근이 가능한 것\n",
    "    \n",
    "> User-agent: * <br>  \n",
    "> Disallow: /\n",
    "\n",
    "    모든 로봇들이 접근하지 못하게 하는 것\n",
    "    \n",
    "> User-agent: MaderianBot <br>  \n",
    "> Disallow: /\n",
    "\n",
    "    Maderi bot은 접근할 수 없다(특정 로봇만 거부)\n",
    "    \n",
    "> User-agent: * <br>  \n",
    "> Disallow: /board/\n",
    "\n",
    "    모든 로봇에 대하여 board 디렉토리의 접근을 거부한다"
   ]
  },
  {
   "cell_type": "markdown",
   "id": "2a27796c",
   "metadata": {},
   "source": [
    "# urllib으로 크롤링하기\n",
    "- url을 입력하여 작동하는 라이브러리로 통신을 통해 데이터를 주고받는 기능을 한다.\n",
    "- 데이터를 받아오거나 다운로드할 수 있다.\n",
    "- urlerror을 통해 웹과 관련된 에러처리를 더욱 상세하게 할 수 있다.\n",
    "- url parser을 통해 어떤 요소들이 url에 들어가있는지 확인할 수 있다.  \n",
    "\n",
    "    종류\n",
    "\n",
    ">urletrieve    \n",
    ">urlerror    \n",
    ">urlopen    \n",
    ">urlparser    \n",
    "\n",
    "\n",
    "## urllib.request 로 이미지 다운받기\n",
    "### 1. urletrieve\n",
    ">url로 표시된 네트워크 정보를 파일로 저장할 수 있는 기능(이미지, html)  \n",
    "(filename, headers) 튜플로 반환한다.  \n",
    "ex) file, header = req.urletrieve(url, path)  \n"
   ]
  },
  {
   "cell_type": "markdown",
   "id": "fcf02b48",
   "metadata": {},
   "source": [
    "#### 이미지 저장"
   ]
  },
  {
   "cell_type": "code",
   "execution_count": 1,
   "id": "68705aea",
   "metadata": {},
   "outputs": [],
   "source": [
    "import urllib.request as req"
   ]
  },
  {
   "cell_type": "code",
   "execution_count": 2,
   "id": "78a50dcc",
   "metadata": {},
   "outputs": [],
   "source": [
    "url = \"https://search.pstatic.net/common/?src=http%3A%2F%2Fblogfiles.naver.net%2FMjAyMjA2MTVfNzQg%2FMDAxNjU1Mjc0MDk4OTI1.EjdYanSZqHCRlFkqUCgLWYlb3gnrdPKeJVWd-Gb48yAg.SZCgdabeKs9nf9ie1DJrDHGatH_S9TNUP7HkLUoyek8g.JPEG.geiebua6125%2F3.jpg&type=sc960_832\"\n",
    "\n",
    "path = \"test1.jpg\""
   ]
  },
  {
   "cell_type": "code",
   "execution_count": 3,
   "id": "d3711ba1",
   "metadata": {},
   "outputs": [
    {
     "data": {
      "text/plain": [
       "'https://search.pstatic.net/common/?src=http%3A%2F%2Fblogfiles.naver.net%2FMjAyMjA2MTVfNzQg%2FMDAxNjU1Mjc0MDk4OTI1.EjdYanSZqHCRlFkqUCgLWYlb3gnrdPKeJVWd-Gb48yAg.SZCgdabeKs9nf9ie1DJrDHGatH_S9TNUP7HkLUoyek8g.JPEG.geiebua6125%2F3.jpg&type=sc960_832'"
      ]
     },
     "execution_count": 3,
     "metadata": {},
     "output_type": "execute_result"
    }
   ],
   "source": [
    "url"
   ]
  },
  {
   "cell_type": "code",
   "execution_count": 4,
   "id": "9b6f1ba2",
   "metadata": {},
   "outputs": [
    {
     "data": {
      "text/plain": [
       "'test1.jpg'"
      ]
     },
     "execution_count": 4,
     "metadata": {},
     "output_type": "execute_result"
    }
   ],
   "source": [
    "path"
   ]
  },
  {
   "cell_type": "markdown",
   "id": "229c5a12",
   "metadata": {},
   "source": [
    "#### 현재 위치 조회"
   ]
  },
  {
   "cell_type": "code",
   "execution_count": 5,
   "id": "2313827c",
   "metadata": {},
   "outputs": [
    {
     "data": {
      "text/plain": [
       "'/Users/yooseungli/Downloads/Crawling'"
      ]
     },
     "execution_count": 5,
     "metadata": {},
     "output_type": "execute_result"
    }
   ],
   "source": [
    "import os\n",
    "os.getcwd()"
   ]
  },
  {
   "cell_type": "code",
   "execution_count": 7,
   "id": "15f7aa6e",
   "metadata": {},
   "outputs": [],
   "source": [
    "file, header = req.urlretrieve(url, path)"
   ]
  },
  {
   "cell_type": "code",
   "execution_count": 8,
   "id": "4b81ea5c",
   "metadata": {},
   "outputs": [
    {
     "name": "stdout",
     "output_type": "stream",
     "text": [
      "test1.jpg\n"
     ]
    }
   ],
   "source": [
    "print(file)"
   ]
  },
  {
   "cell_type": "code",
   "execution_count": 9,
   "id": "631357ce",
   "metadata": {},
   "outputs": [
    {
     "name": "stdout",
     "output_type": "stream",
     "text": [
      "accept-ranges: bytes\n",
      "cache-control: max-age=2592000\n",
      "content-length: 38927\n",
      "content-type: image/jpeg\n",
      "expires: Fri, 22 Jul 2022 00:53:25 GMT\n",
      "last-modified: Wed, 22 Jun 2022 00:53:25 GMT\n",
      "p3p: CP=\"ALL CURa ADMa DEVa TAIa OUR BUS IND PHY ONL UNI PUR FIN COM NAV INT DEM CNT STA POL HEA PRE LOC OTC\"\n",
      "date: Wed, 22 Jun 2022 00:53:25 GMT\n",
      "age: 1953959\n",
      "server: Testa/6.1.2\n",
      "strict-transport-security: max-age=31536000\n",
      "connection: close\n",
      "\n",
      "\n"
     ]
    }
   ],
   "source": [
    "print(header)"
   ]
  },
  {
   "cell_type": "markdown",
   "id": "4b78cc96",
   "metadata": {},
   "source": [
    "#### html 저장"
   ]
  },
  {
   "cell_type": "code",
   "execution_count": 12,
   "id": "42d3d20c",
   "metadata": {},
   "outputs": [],
   "source": [
    "url2 = \"https://www.naver.com/\"\n",
    "path2 = \"naver.html\""
   ]
  },
  {
   "cell_type": "code",
   "execution_count": 13,
   "id": "79a8d91b",
   "metadata": {},
   "outputs": [],
   "source": [
    "file2, header2 = req.urlretrieve(url2, path2)"
   ]
  },
  {
   "cell_type": "markdown",
   "id": "39d8589b",
   "metadata": {},
   "source": [
    "#### 이미지와 html 저장 확인하기"
   ]
  },
  {
   "cell_type": "code",
   "execution_count": 14,
   "id": "3e4fbbe0",
   "metadata": {},
   "outputs": [
    {
     "name": "stdout",
     "output_type": "stream",
     "text": [
      "naver.html\n"
     ]
    }
   ],
   "source": [
    "print(file2)"
   ]
  },
  {
   "cell_type": "code",
   "execution_count": 15,
   "id": "478ee929",
   "metadata": {},
   "outputs": [
    {
     "name": "stdout",
     "output_type": "stream",
     "text": [
      "Server: NWS\n",
      "Date: Thu, 14 Jul 2022 15:44:21 GMT\n",
      "Content-Type: text/html; charset=UTF-8\n",
      "Transfer-Encoding: chunked\n",
      "Connection: close\n",
      "Set-Cookie: PM_CK_loc=0ca2b2933029536b80719a694efcd5e696822b610119e9f7fa528837df156f11; Expires=Fri, 15 Jul 2022 15:44:21 GMT; Path=/; HttpOnly\n",
      "Cache-Control: no-cache, no-store, must-revalidate\n",
      "Pragma: no-cache\n",
      "P3P: CP=\"CAO DSP CURa ADMa TAIa PSAa OUR LAW STP PHY ONL UNI PUR FIN COM NAV INT DEM STA PRE\"\n",
      "X-Frame-Options: DENY\n",
      "X-XSS-Protection: 1; mode=block\n",
      "Strict-Transport-Security: max-age=63072000; includeSubdomains\n",
      "Referrer-Policy: unsafe-url\n",
      "\n",
      "\n"
     ]
    }
   ],
   "source": [
    "print(header2)"
   ]
  },
  {
   "cell_type": "markdown",
   "id": "5028485c",
   "metadata": {},
   "source": [
    "### 2. urlerror\n",
    "> 크롤링에서 발생할 수 있는 에러처리를 할 수 있음    \n",
    "에러처리를 통해서 어떤 에러가 발생하였는지 파악하고 코드를 수정할 수 있음.  \n",
    "URLError : 요청한 것의 서버가 없거나 네트워크 연결이 없는 상황에서 발생  \n",
    "HTTPError : HTTP응답에 있는 status에 따라서 상태를 반환시켜줌, status 코드에 따라서 에러 유형이 다름  \n",
    "주의사항 : URLError가 HTTPError도 잡기 때문에 HTTPError 처리를 먼저 해줘야 함\n",
    "\n",
    "**1번 예제와 다르게 list에 넣고 for문을 통한 이미지 다운로드 실시**\n",
    "\n",
    "**(참고)기타에러**\n",
    "- ValueError\n",
    "- IndexError\n",
    "- ImportError\n",
    "- Exception : 정의할 수 없는 에러\n"
   ]
  },
  {
   "cell_type": "code",
   "execution_count": 16,
   "id": "a8c0cf08",
   "metadata": {},
   "outputs": [],
   "source": [
    "from urllib.error import URLError, HTTPError"
   ]
  },
  {
   "cell_type": "code",
   "execution_count": 20,
   "id": "71f390ae",
   "metadata": {},
   "outputs": [],
   "source": [
    "url_list = [\"https://search.pstatic.net/common/?src=http%3A%2F%2Fblogfiles.naver.net%2FMjAyMjA2MjlfMTkz%2FMDAxNjU2NDM2NzE5NTU1.PTCRhYOGT-qwM_e-sAkfbTYPxiZflJfeTtLeEKsjf4sg.ftrguyBzPFTfOjdaTiRpINZQAYwrfSDsU0ZdMga5-X8g.JPEG.yenny_11%2F9C4FF801-2C30-4396-B789-93BD31252B1D.jpg&type=sc960_832\",\n",
    "           \"https://search.pstatic.net/sunny/?src=https%3A%2F%2Fi3.ruliweb.com%2Fimg%2F22%2F06%2F19%2F1817afa430a4870e3.jpeg&type=sc960_832\"]\n",
    "\n",
    "name_list = [\"cheese.jpg\", \"black.jpg\"]"
   ]
  },
  {
   "cell_type": "code",
   "execution_count": 21,
   "id": "fa0e6e46",
   "metadata": {},
   "outputs": [
    {
     "name": "stdout",
     "output_type": "stream",
     "text": [
      "file name : cheese.jpg\n",
      "accept-ranges: bytes\n",
      "cache-control: max-age=2592000\n",
      "content-length: 86312\n",
      "content-type: image/jpeg\n",
      "expires: Sun, 07 Aug 2022 03:57:55 GMT\n",
      "last-modified: Fri, 08 Jul 2022 03:57:55 GMT\n",
      "p3p: CP=\"ALL CURa ADMa DEVa TAIa OUR BUS IND PHY ONL UNI PUR FIN COM NAV INT DEM CNT STA POL HEA PRE LOC OTC\"\n",
      "date: Fri, 08 Jul 2022 03:57:55 GMT\n",
      "age: 561803\n",
      "server: Testa/6.1.2\n",
      "strict-transport-security: max-age=31536000\n",
      "connection: close\n",
      "\n",
      "\n",
      "\n",
      "cheese.jpg 이미지 다운 완료\n",
      "file name : black.jpg\n",
      "accept-ranges: bytes\n",
      "cache-control: max-age=2592000\n",
      "content-length: 32652\n",
      "content-type: image/jpeg\n",
      "expires: Sun, 24 Jul 2022 22:48:17 GMT\n",
      "last-modified: Fri, 24 Jun 2022 22:48:17 GMT\n",
      "p3p: CP=\"ALL CURa ADMa DEVa TAIa OUR BUS IND PHY ONL UNI PUR FIN COM NAV INT DEM CNT STA POL HEA PRE LOC OTC\"\n",
      "date: Fri, 24 Jun 2022 22:48:17 GMT\n",
      "age: 1703581\n",
      "server: Testa/6.1.2\n",
      "strict-transport-security: max-age=31536000\n",
      "connection: close\n",
      "\n",
      "\n",
      "\n",
      "black.jpg 이미지 다운 완료\n"
     ]
    }
   ],
   "source": [
    "for i, url in enumerate(url_list):\n",
    "    try:\n",
    "        #웹 수신 정보 읽기\n",
    "        response = req.urlopen(url)\n",
    "        contents = response.read()\n",
    "        \n",
    "        print(f\"file name : {name_list[i]}\")\n",
    "        print(f\"{response.info()}\")\n",
    "        \n",
    "        with open(name_list[i], \"wb\") as c:\n",
    "            c.write(contents)\n",
    "    except HTTPError as e: #HTTPError 먼저 처리\n",
    "        print(\"다운로드 실패\")\n",
    "        print(e.code)\n",
    "    except URLError as e:\n",
    "        print(\"다운로드 실패\")\n",
    "        print(e.code)\n",
    "    else:\n",
    "        print()\n",
    "        print(f\"{name_list[i]} 이미지 다운 완료\")"
   ]
  },
  {
   "cell_type": "markdown",
   "id": "3164157d",
   "metadata": {},
   "source": [
    "#### 3. urlopen / urlparse"
   ]
  },
  {
   "cell_type": "code",
   "execution_count": 22,
   "id": "b38c0d52",
   "metadata": {},
   "outputs": [],
   "source": [
    "import urllib.request as rq\n",
    "from urllib.parse import urlparse"
   ]
  },
  {
   "cell_type": "code",
   "execution_count": 23,
   "id": "d9d7cb1c",
   "metadata": {},
   "outputs": [],
   "source": [
    "url = \"https://www.smu.ac.kr\""
   ]
  },
  {
   "cell_type": "code",
   "execution_count": 24,
   "id": "4ace0b75",
   "metadata": {},
   "outputs": [],
   "source": [
    "ele = rq.urlopen(url)"
   ]
  },
  {
   "cell_type": "code",
   "execution_count": 26,
   "id": "e174bdb2",
   "metadata": {},
   "outputs": [
    {
     "name": "stdout",
     "output_type": "stream",
     "text": [
      "<class 'http.client.HTTPResponse'>\n"
     ]
    }
   ],
   "source": [
    "print(type(ele))"
   ]
  },
  {
   "cell_type": "code",
   "execution_count": 27,
   "id": "643f217c",
   "metadata": {},
   "outputs": [
    {
     "name": "stdout",
     "output_type": "stream",
     "text": [
      "https://www.smu.ac.kr/ko/index.do\n"
     ]
    }
   ],
   "source": [
    "print(ele.geturl())"
   ]
  },
  {
   "cell_type": "code",
   "execution_count": 29,
   "id": "eb86950f",
   "metadata": {},
   "outputs": [
    {
     "data": {
      "text/plain": [
       "200"
      ]
     },
     "execution_count": 29,
     "metadata": {},
     "output_type": "execute_result"
    }
   ],
   "source": [
    "ele.status"
   ]
  },
  {
   "cell_type": "code",
   "execution_count": 31,
   "id": "e2d25125",
   "metadata": {},
   "outputs": [
    {
     "data": {
      "text/plain": [
       "[('Content-Language', 'ko'),\n",
       " ('Date', 'Thu, 14 Jul 2022 16:03:43 GMT'),\n",
       " ('Expires', 'Thu, 01 Jan 1970 00:00:00 GMT'),\n",
       " ('Set-Cookie',\n",
       "  'JSESSIONID=VbISmXHuRMA3lx8SK71ULhQvdzIGY1i1sVVghNN43OEEAJ5877uH8PO1rpI6qZID.d3d3X2RvbWFpbi9jbXM=; Path=/; HttpOnly'),\n",
       " ('Set-Cookie', 'ko_visited=Y; Expires=Fri, 15-Jul-2022 14:59:43 GMT; Path=/'),\n",
       " ('Set-Cookie',\n",
       "  'ko_visited=20220715010343662001; Expires=Fri, 15-Jul-2022 14:59:43 GMT; Path=/'),\n",
       " ('Set-Cookie', 'locale=ko; Path=/'),\n",
       " ('Connection', 'close'),\n",
       " ('Content-Type', 'text/html; charset=UTF-8'),\n",
       " ('Pragma', 'no-cache'),\n",
       " ('Cache-Control', 'no-store'),\n",
       " ('Cache-Control', 'no-cache')]"
      ]
     },
     "execution_count": 31,
     "metadata": {},
     "output_type": "execute_result"
    }
   ],
   "source": [
    "ele.getheaders()"
   ]
  },
  {
   "cell_type": "code",
   "execution_count": 36,
   "id": "e850b35a",
   "metadata": {},
   "outputs": [
    {
     "data": {
      "text/plain": [
       "'param=test'"
      ]
     },
     "execution_count": 36,
     "metadata": {},
     "output_type": "execute_result"
    }
   ],
   "source": [
    "urlparse(\"https://www.smu.ac.kr/ko/index.do?param=test\").query"
   ]
  },
  {
   "cell_type": "markdown",
   "id": "bfbd4feb",
   "metadata": {},
   "source": [
    "headers에 데이터 추가하기"
   ]
  },
  {
   "cell_type": "code",
   "execution_count": 39,
   "id": "9a924b5a",
   "metadata": {},
   "outputs": [
    {
     "name": "stdout",
     "output_type": "stream",
     "text": [
      "Collecting fake-useragent\n",
      "  Downloading fake-useragent-0.1.11.tar.gz (13 kB)\n",
      "Building wheels for collected packages: fake-useragent\n",
      "  Building wheel for fake-useragent (setup.py) ... \u001b[?25ldone\n",
      "\u001b[?25h  Created wheel for fake-useragent: filename=fake_useragent-0.1.11-py3-none-any.whl size=13486 sha256=c123dd9167d601003da25a4c6072675835f175886c3c89b72791e2fdac59b13a\n",
      "  Stored in directory: /Users/yooseungli/Library/Caches/pip/wheels/a0/b8/b7/8c942b2c5be5158b874a88195116b05ad124bac795f6665e65\n",
      "Successfully built fake-useragent\n",
      "Installing collected packages: fake-useragent\n",
      "Successfully installed fake-useragent-0.1.11\n"
     ]
    }
   ],
   "source": [
    "!pip install fake-useragent"
   ]
  },
  {
   "cell_type": "code",
   "execution_count": 40,
   "id": "ef93ff11",
   "metadata": {},
   "outputs": [
    {
     "name": "stderr",
     "output_type": "stream",
     "text": [
      "Error occurred during loading data. Trying to use cache server https://fake-useragent.herokuapp.com/browsers/0.1.11\n",
      "Traceback (most recent call last):\n",
      "  File \"/Users/yooseungli/opt/anaconda3/lib/python3.8/site-packages/fake_useragent/utils.py\", line 154, in load\n",
      "    for item in get_browsers(verify_ssl=verify_ssl):\n",
      "  File \"/Users/yooseungli/opt/anaconda3/lib/python3.8/site-packages/fake_useragent/utils.py\", line 99, in get_browsers\n",
      "    html = html.split('<table class=\"w3-table-all notranslate\">')[1]\n",
      "IndexError: list index out of range\n"
     ]
    }
   ],
   "source": [
    "from fake_useragent import UserAgent\n",
    "\n",
    "ua = UserAgent()"
   ]
  },
  {
   "cell_type": "code",
   "execution_count": 42,
   "id": "4396388c",
   "metadata": {},
   "outputs": [
    {
     "data": {
      "text/plain": [
       "'Mozilla/5.0 (compatible; MSIE 9.0; Windows NT 6.1; Win64; x64; Trident/5.0; .NET CLR 3.5.30729; .NET CLR 3.0.30729; .NET CLR 2.0.50727; Media Center PC 6.0)'"
      ]
     },
     "execution_count": 42,
     "metadata": {},
     "output_type": "execute_result"
    }
   ],
   "source": [
    "ua.ie"
   ]
  },
  {
   "cell_type": "code",
   "execution_count": 43,
   "id": "80d1a4d5",
   "metadata": {},
   "outputs": [
    {
     "data": {
      "text/plain": [
       "'Mozilla/5.0 (Windows NT 6.2; WOW64) AppleWebKit/537.14 (KHTML, like Gecko) Chrome/24.0.1292.0 Safari/537.14'"
      ]
     },
     "execution_count": 43,
     "metadata": {},
     "output_type": "execute_result"
    }
   ],
   "source": [
    "ua.chrome"
   ]
  },
  {
   "cell_type": "code",
   "execution_count": 44,
   "id": "f469d331",
   "metadata": {},
   "outputs": [
    {
     "data": {
      "text/plain": [
       "'Mozilla/5.0 (Macintosh; U; Intel Mac OS X 10_6_6; sv-se) AppleWebKit/533.20.25 (KHTML, like Gecko) Version/5.0.4 Safari/533.20.27'"
      ]
     },
     "execution_count": 44,
     "metadata": {},
     "output_type": "execute_result"
    }
   ],
   "source": [
    "ua.safari"
   ]
  },
  {
   "cell_type": "code",
   "execution_count": 49,
   "id": "ee64cf90",
   "metadata": {},
   "outputs": [
    {
     "data": {
      "text/plain": [
       "'Mozilla/5.0 (Windows NT 6.2) AppleWebKit/537.36 (KHTML, like Gecko) Chrome/28.0.1464.0 Safari/537.36'"
      ]
     },
     "execution_count": 49,
     "metadata": {},
     "output_type": "execute_result"
    }
   ],
   "source": [
    "ua.random"
   ]
  },
  {
   "cell_type": "markdown",
   "id": "30feb6e9",
   "metadata": {},
   "source": [
    "### 야후 파이낸스 데이터 받아오기\n",
    "ppt슬라이드에서 비동기요청 장표 확인"
   ]
  },
  {
   "cell_type": "code",
   "execution_count": 54,
   "id": "68ef3d07",
   "metadata": {},
   "outputs": [],
   "source": [
    "from IPython.display import Image "
   ]
  }
 ],
 "metadata": {
  "kernelspec": {
   "display_name": "Python 3",
   "language": "python",
   "name": "python3"
  },
  "language_info": {
   "codemirror_mode": {
    "name": "ipython",
    "version": 3
   },
   "file_extension": ".py",
   "mimetype": "text/x-python",
   "name": "python",
   "nbconvert_exporter": "python",
   "pygments_lexer": "ipython3",
   "version": "3.8.8"
  }
 },
 "nbformat": 4,
 "nbformat_minor": 5
}
